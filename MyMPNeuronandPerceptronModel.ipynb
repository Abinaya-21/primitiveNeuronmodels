{
  "nbformat": 4,
  "nbformat_minor": 0,
  "metadata": {
    "colab": {
      "name": "MyMPNeuronandPerceptron.ipynb",
      "provenance": [],
      "collapsed_sections": [
        "kVR64urEwqTj",
        "o5rgi1k9w58L",
        "5fSsjaWpMTQd",
        "FLaOJhaQkisL",
        "AOkF7-A7dUoA"
      ],
      "authorship_tag": "ABX9TyPhthBJyUst2Ivtn6VRW4GE",
      "include_colab_link": true
    },
    "kernelspec": {
      "name": "python3",
      "display_name": "Python 3"
    }
  },
  "cells": [
    {
      "cell_type": "markdown",
      "metadata": {
        "id": "view-in-github",
        "colab_type": "text"
      },
      "source": [
        "<a href=\"https://colab.research.google.com/github/Abinaya-21/Hello-world/blob/master/MyMPNeuronandPerceptronModel.ipynb\" target=\"_parent\"><img src=\"https://colab.research.google.com/assets/colab-badge.svg\" alt=\"Open In Colab\"/></a>"
      ]
    },
    {
      "cell_type": "markdown",
      "metadata": {
        "id": "kVR64urEwqTj"
      },
      "source": [
        "### ***Loading a dataset***"
      ]
    },
    {
      "cell_type": "code",
      "metadata": {
        "id": "oUxP3R7opgiV"
      },
      "source": [
        "import sklearn.datasets\n",
        "import numpy as np"
      ],
      "execution_count": 1,
      "outputs": []
    },
    {
      "cell_type": "code",
      "metadata": {
        "id": "IxGEj0Y2ppkc"
      },
      "source": [
        "breast_cancer = sklearn.datasets.load_breast_cancer() #importing a dataset from sklearn package"
      ],
      "execution_count": 2,
      "outputs": []
    },
    {
      "cell_type": "code",
      "metadata": {
        "id": "ALN0F4ImqDQm",
        "outputId": "b9d98ea4-bf66-46c0-e42b-3f9ed1bb8dad",
        "colab": {
          "base_uri": "https://localhost:8080/",
          "height": 892
        }
      },
      "source": [
        "print(breast_cancer)"
      ],
      "execution_count": 3,
      "outputs": [
        {
          "output_type": "stream",
          "text": [
            "{'data': array([[1.799e+01, 1.038e+01, 1.228e+02, ..., 2.654e-01, 4.601e-01,\n",
            "        1.189e-01],\n",
            "       [2.057e+01, 1.777e+01, 1.329e+02, ..., 1.860e-01, 2.750e-01,\n",
            "        8.902e-02],\n",
            "       [1.969e+01, 2.125e+01, 1.300e+02, ..., 2.430e-01, 3.613e-01,\n",
            "        8.758e-02],\n",
            "       ...,\n",
            "       [1.660e+01, 2.808e+01, 1.083e+02, ..., 1.418e-01, 2.218e-01,\n",
            "        7.820e-02],\n",
            "       [2.060e+01, 2.933e+01, 1.401e+02, ..., 2.650e-01, 4.087e-01,\n",
            "        1.240e-01],\n",
            "       [7.760e+00, 2.454e+01, 4.792e+01, ..., 0.000e+00, 2.871e-01,\n",
            "        7.039e-02]]), 'target': array([0, 0, 0, 0, 0, 0, 0, 0, 0, 0, 0, 0, 0, 0, 0, 0, 0, 0, 0, 1, 1, 1,\n",
            "       0, 0, 0, 0, 0, 0, 0, 0, 0, 0, 0, 0, 0, 0, 0, 1, 0, 0, 0, 0, 0, 0,\n",
            "       0, 0, 1, 0, 1, 1, 1, 1, 1, 0, 0, 1, 0, 0, 1, 1, 1, 1, 0, 1, 0, 0,\n",
            "       1, 1, 1, 1, 0, 1, 0, 0, 1, 0, 1, 0, 0, 1, 1, 1, 0, 0, 1, 0, 0, 0,\n",
            "       1, 1, 1, 0, 1, 1, 0, 0, 1, 1, 1, 0, 0, 1, 1, 1, 1, 0, 1, 1, 0, 1,\n",
            "       1, 1, 1, 1, 1, 1, 1, 0, 0, 0, 1, 0, 0, 1, 1, 1, 0, 0, 1, 0, 1, 0,\n",
            "       0, 1, 0, 0, 1, 1, 0, 1, 1, 0, 1, 1, 1, 1, 0, 1, 1, 1, 1, 1, 1, 1,\n",
            "       1, 1, 0, 1, 1, 1, 1, 0, 0, 1, 0, 1, 1, 0, 0, 1, 1, 0, 0, 1, 1, 1,\n",
            "       1, 0, 1, 1, 0, 0, 0, 1, 0, 1, 0, 1, 1, 1, 0, 1, 1, 0, 0, 1, 0, 0,\n",
            "       0, 0, 1, 0, 0, 0, 1, 0, 1, 0, 1, 1, 0, 1, 0, 0, 0, 0, 1, 1, 0, 0,\n",
            "       1, 1, 1, 0, 1, 1, 1, 1, 1, 0, 0, 1, 1, 0, 1, 1, 0, 0, 1, 0, 1, 1,\n",
            "       1, 1, 0, 1, 1, 1, 1, 1, 0, 1, 0, 0, 0, 0, 0, 0, 0, 0, 0, 0, 0, 0,\n",
            "       0, 0, 1, 1, 1, 1, 1, 1, 0, 1, 0, 1, 1, 0, 1, 1, 0, 1, 0, 0, 1, 1,\n",
            "       1, 1, 1, 1, 1, 1, 1, 1, 1, 1, 1, 0, 1, 1, 0, 1, 0, 1, 1, 1, 1, 1,\n",
            "       1, 1, 1, 1, 1, 1, 1, 1, 1, 0, 1, 1, 1, 0, 1, 0, 1, 1, 1, 1, 0, 0,\n",
            "       0, 1, 1, 1, 1, 0, 1, 0, 1, 0, 1, 1, 1, 0, 1, 1, 1, 1, 1, 1, 1, 0,\n",
            "       0, 0, 1, 1, 1, 1, 1, 1, 1, 1, 1, 1, 1, 0, 0, 1, 0, 0, 0, 1, 0, 0,\n",
            "       1, 1, 1, 1, 1, 0, 1, 1, 1, 1, 1, 0, 1, 1, 1, 0, 1, 1, 0, 0, 1, 1,\n",
            "       1, 1, 1, 1, 0, 1, 1, 1, 1, 1, 1, 1, 0, 1, 1, 1, 1, 1, 0, 1, 1, 0,\n",
            "       1, 1, 1, 1, 1, 1, 1, 1, 1, 1, 1, 1, 0, 1, 0, 0, 1, 0, 1, 1, 1, 1,\n",
            "       1, 0, 1, 1, 0, 1, 0, 1, 1, 0, 1, 0, 1, 1, 1, 1, 1, 1, 1, 1, 0, 0,\n",
            "       1, 1, 1, 1, 1, 1, 0, 1, 1, 1, 1, 1, 1, 1, 1, 1, 1, 0, 1, 1, 1, 1,\n",
            "       1, 1, 1, 0, 1, 0, 1, 1, 0, 1, 1, 1, 1, 1, 0, 0, 1, 0, 1, 0, 1, 1,\n",
            "       1, 1, 1, 0, 1, 1, 0, 1, 0, 1, 0, 0, 1, 1, 1, 0, 1, 1, 1, 1, 1, 1,\n",
            "       1, 1, 1, 1, 1, 0, 1, 0, 0, 1, 1, 1, 1, 1, 1, 1, 1, 1, 1, 1, 1, 1,\n",
            "       1, 1, 1, 1, 1, 1, 1, 1, 1, 1, 1, 1, 0, 0, 0, 0, 0, 0, 1]), 'target_names': array(['malignant', 'benign'], dtype='<U9'), 'DESCR': '.. _breast_cancer_dataset:\\n\\nBreast cancer wisconsin (diagnostic) dataset\\n--------------------------------------------\\n\\n**Data Set Characteristics:**\\n\\n    :Number of Instances: 569\\n\\n    :Number of Attributes: 30 numeric, predictive attributes and the class\\n\\n    :Attribute Information:\\n        - radius (mean of distances from center to points on the perimeter)\\n        - texture (standard deviation of gray-scale values)\\n        - perimeter\\n        - area\\n        - smoothness (local variation in radius lengths)\\n        - compactness (perimeter^2 / area - 1.0)\\n        - concavity (severity of concave portions of the contour)\\n        - concave points (number of concave portions of the contour)\\n        - symmetry \\n        - fractal dimension (\"coastline approximation\" - 1)\\n\\n        The mean, standard error, and \"worst\" or largest (mean of the three\\n        largest values) of these features were computed for each image,\\n        resulting in 30 features.  For instance, field 3 is Mean Radius, field\\n        13 is Radius SE, field 23 is Worst Radius.\\n\\n        - class:\\n                - WDBC-Malignant\\n                - WDBC-Benign\\n\\n    :Summary Statistics:\\n\\n    ===================================== ====== ======\\n                                           Min    Max\\n    ===================================== ====== ======\\n    radius (mean):                        6.981  28.11\\n    texture (mean):                       9.71   39.28\\n    perimeter (mean):                     43.79  188.5\\n    area (mean):                          143.5  2501.0\\n    smoothness (mean):                    0.053  0.163\\n    compactness (mean):                   0.019  0.345\\n    concavity (mean):                     0.0    0.427\\n    concave points (mean):                0.0    0.201\\n    symmetry (mean):                      0.106  0.304\\n    fractal dimension (mean):             0.05   0.097\\n    radius (standard error):              0.112  2.873\\n    texture (standard error):             0.36   4.885\\n    perimeter (standard error):           0.757  21.98\\n    area (standard error):                6.802  542.2\\n    smoothness (standard error):          0.002  0.031\\n    compactness (standard error):         0.002  0.135\\n    concavity (standard error):           0.0    0.396\\n    concave points (standard error):      0.0    0.053\\n    symmetry (standard error):            0.008  0.079\\n    fractal dimension (standard error):   0.001  0.03\\n    radius (worst):                       7.93   36.04\\n    texture (worst):                      12.02  49.54\\n    perimeter (worst):                    50.41  251.2\\n    area (worst):                         185.2  4254.0\\n    smoothness (worst):                   0.071  0.223\\n    compactness (worst):                  0.027  1.058\\n    concavity (worst):                    0.0    1.252\\n    concave points (worst):               0.0    0.291\\n    symmetry (worst):                     0.156  0.664\\n    fractal dimension (worst):            0.055  0.208\\n    ===================================== ====== ======\\n\\n    :Missing Attribute Values: None\\n\\n    :Class Distribution: 212 - Malignant, 357 - Benign\\n\\n    :Creator:  Dr. William H. Wolberg, W. Nick Street, Olvi L. Mangasarian\\n\\n    :Donor: Nick Street\\n\\n    :Date: November, 1995\\n\\nThis is a copy of UCI ML Breast Cancer Wisconsin (Diagnostic) datasets.\\nhttps://goo.gl/U2Uwz2\\n\\nFeatures are computed from a digitized image of a fine needle\\naspirate (FNA) of a breast mass.  They describe\\ncharacteristics of the cell nuclei present in the image.\\n\\nSeparating plane described above was obtained using\\nMultisurface Method-Tree (MSM-T) [K. P. Bennett, \"Decision Tree\\nConstruction Via Linear Programming.\" Proceedings of the 4th\\nMidwest Artificial Intelligence and Cognitive Science Society,\\npp. 97-101, 1992], a classification method which uses linear\\nprogramming to construct a decision tree.  Relevant features\\nwere selected using an exhaustive search in the space of 1-4\\nfeatures and 1-3 separating planes.\\n\\nThe actual linear program used to obtain the separating plane\\nin the 3-dimensional space is that described in:\\n[K. P. Bennett and O. L. Mangasarian: \"Robust Linear\\nProgramming Discrimination of Two Linearly Inseparable Sets\",\\nOptimization Methods and Software 1, 1992, 23-34].\\n\\nThis database is also available through the UW CS ftp server:\\n\\nftp ftp.cs.wisc.edu\\ncd math-prog/cpo-dataset/machine-learn/WDBC/\\n\\n.. topic:: References\\n\\n   - W.N. Street, W.H. Wolberg and O.L. Mangasarian. Nuclear feature extraction \\n     for breast tumor diagnosis. IS&T/SPIE 1993 International Symposium on \\n     Electronic Imaging: Science and Technology, volume 1905, pages 861-870,\\n     San Jose, CA, 1993.\\n   - O.L. Mangasarian, W.N. Street and W.H. Wolberg. Breast cancer diagnosis and \\n     prognosis via linear programming. Operations Research, 43(4), pages 570-577, \\n     July-August 1995.\\n   - W.H. Wolberg, W.N. Street, and O.L. Mangasarian. Machine learning techniques\\n     to diagnose breast cancer from fine-needle aspirates. Cancer Letters 77 (1994) \\n     163-171.', 'feature_names': array(['mean radius', 'mean texture', 'mean perimeter', 'mean area',\n",
            "       'mean smoothness', 'mean compactness', 'mean concavity',\n",
            "       'mean concave points', 'mean symmetry', 'mean fractal dimension',\n",
            "       'radius error', 'texture error', 'perimeter error', 'area error',\n",
            "       'smoothness error', 'compactness error', 'concavity error',\n",
            "       'concave points error', 'symmetry error',\n",
            "       'fractal dimension error', 'worst radius', 'worst texture',\n",
            "       'worst perimeter', 'worst area', 'worst smoothness',\n",
            "       'worst compactness', 'worst concavity', 'worst concave points',\n",
            "       'worst symmetry', 'worst fractal dimension'], dtype='<U23'), 'filename': '/usr/local/lib/python3.6/dist-packages/sklearn/datasets/data/breast_cancer.csv'}\n"
          ],
          "name": "stdout"
        }
      ]
    },
    {
      "cell_type": "code",
      "metadata": {
        "id": "Nj46kU-4qNxK",
        "outputId": "5964e130-0974-4738-954e-a409a2f74788",
        "colab": {
          "base_uri": "https://localhost:8080/",
          "height": 145
        }
      },
      "source": [
        "X = breast_cancer.data #extracting the feature \n",
        "print(X)"
      ],
      "execution_count": 4,
      "outputs": [
        {
          "output_type": "stream",
          "text": [
            "[[1.799e+01 1.038e+01 1.228e+02 ... 2.654e-01 4.601e-01 1.189e-01]\n",
            " [2.057e+01 1.777e+01 1.329e+02 ... 1.860e-01 2.750e-01 8.902e-02]\n",
            " [1.969e+01 2.125e+01 1.300e+02 ... 2.430e-01 3.613e-01 8.758e-02]\n",
            " ...\n",
            " [1.660e+01 2.808e+01 1.083e+02 ... 1.418e-01 2.218e-01 7.820e-02]\n",
            " [2.060e+01 2.933e+01 1.401e+02 ... 2.650e-01 4.087e-01 1.240e-01]\n",
            " [7.760e+00 2.454e+01 4.792e+01 ... 0.000e+00 2.871e-01 7.039e-02]]\n"
          ],
          "name": "stdout"
        }
      ]
    },
    {
      "cell_type": "code",
      "metadata": {
        "id": "E5CVUWdqqb7D",
        "outputId": "06b0267e-cafc-45cf-e6e5-8606bde86c24",
        "colab": {
          "base_uri": "https://localhost:8080/",
          "height": 35
        }
      },
      "source": [
        "np.shape(X)"
      ],
      "execution_count": 5,
      "outputs": [
        {
          "output_type": "execute_result",
          "data": {
            "text/plain": [
              "(569, 30)"
            ]
          },
          "metadata": {
            "tags": []
          },
          "execution_count": 5
        }
      ]
    },
    {
      "cell_type": "code",
      "metadata": {
        "id": "f87p9NnVqpuH",
        "outputId": "9a05ea14-950c-4ccc-bead-f023311b670c",
        "colab": {
          "base_uri": "https://localhost:8080/",
          "height": 308
        }
      },
      "source": [
        "Y = breast_cancer.target # extracting the output\n",
        "print(Y)"
      ],
      "execution_count": 6,
      "outputs": [
        {
          "output_type": "stream",
          "text": [
            "[0 0 0 0 0 0 0 0 0 0 0 0 0 0 0 0 0 0 0 1 1 1 0 0 0 0 0 0 0 0 0 0 0 0 0 0 0\n",
            " 1 0 0 0 0 0 0 0 0 1 0 1 1 1 1 1 0 0 1 0 0 1 1 1 1 0 1 0 0 1 1 1 1 0 1 0 0\n",
            " 1 0 1 0 0 1 1 1 0 0 1 0 0 0 1 1 1 0 1 1 0 0 1 1 1 0 0 1 1 1 1 0 1 1 0 1 1\n",
            " 1 1 1 1 1 1 0 0 0 1 0 0 1 1 1 0 0 1 0 1 0 0 1 0 0 1 1 0 1 1 0 1 1 1 1 0 1\n",
            " 1 1 1 1 1 1 1 1 0 1 1 1 1 0 0 1 0 1 1 0 0 1 1 0 0 1 1 1 1 0 1 1 0 0 0 1 0\n",
            " 1 0 1 1 1 0 1 1 0 0 1 0 0 0 0 1 0 0 0 1 0 1 0 1 1 0 1 0 0 0 0 1 1 0 0 1 1\n",
            " 1 0 1 1 1 1 1 0 0 1 1 0 1 1 0 0 1 0 1 1 1 1 0 1 1 1 1 1 0 1 0 0 0 0 0 0 0\n",
            " 0 0 0 0 0 0 0 1 1 1 1 1 1 0 1 0 1 1 0 1 1 0 1 0 0 1 1 1 1 1 1 1 1 1 1 1 1\n",
            " 1 0 1 1 0 1 0 1 1 1 1 1 1 1 1 1 1 1 1 1 1 0 1 1 1 0 1 0 1 1 1 1 0 0 0 1 1\n",
            " 1 1 0 1 0 1 0 1 1 1 0 1 1 1 1 1 1 1 0 0 0 1 1 1 1 1 1 1 1 1 1 1 0 0 1 0 0\n",
            " 0 1 0 0 1 1 1 1 1 0 1 1 1 1 1 0 1 1 1 0 1 1 0 0 1 1 1 1 1 1 0 1 1 1 1 1 1\n",
            " 1 0 1 1 1 1 1 0 1 1 0 1 1 1 1 1 1 1 1 1 1 1 1 0 1 0 0 1 0 1 1 1 1 1 0 1 1\n",
            " 0 1 0 1 1 0 1 0 1 1 1 1 1 1 1 1 0 0 1 1 1 1 1 1 0 1 1 1 1 1 1 1 1 1 1 0 1\n",
            " 1 1 1 1 1 1 0 1 0 1 1 0 1 1 1 1 1 0 0 1 0 1 0 1 1 1 1 1 0 1 1 0 1 0 1 0 0\n",
            " 1 1 1 0 1 1 1 1 1 1 1 1 1 1 1 0 1 0 0 1 1 1 1 1 1 1 1 1 1 1 1 1 1 1 1 1 1\n",
            " 1 1 1 1 1 1 1 0 0 0 0 0 0 1]\n"
          ],
          "name": "stdout"
        }
      ]
    },
    {
      "cell_type": "code",
      "metadata": {
        "id": "g8ATfJ8sq9Rx",
        "outputId": "f52bbb1d-e8e0-4a65-cf03-04f761680256",
        "colab": {
          "base_uri": "https://localhost:8080/",
          "height": 35
        }
      },
      "source": [
        "np.shape(Y)"
      ],
      "execution_count": 7,
      "outputs": [
        {
          "output_type": "execute_result",
          "data": {
            "text/plain": [
              "(569,)"
            ]
          },
          "metadata": {
            "tags": []
          },
          "execution_count": 7
        }
      ]
    },
    {
      "cell_type": "code",
      "metadata": {
        "id": "CuoL-nE4rCdn"
      },
      "source": [
        "import pandas as pd"
      ],
      "execution_count": 8,
      "outputs": []
    },
    {
      "cell_type": "code",
      "metadata": {
        "id": "Rp3xgyA7riI5",
        "outputId": "0b672dd2-3c75-4696-9bb2-e6622adcedf6",
        "colab": {
          "base_uri": "https://localhost:8080/",
          "height": 462
        }
      },
      "source": [
        "data = pd.DataFrame(breast_cancer.data , columns=breast_cancer.feature_names) #converting the data into dataframe\n",
        "data"
      ],
      "execution_count": 9,
      "outputs": [
        {
          "output_type": "execute_result",
          "data": {
            "text/html": [
              "<div>\n",
              "<style scoped>\n",
              "    .dataframe tbody tr th:only-of-type {\n",
              "        vertical-align: middle;\n",
              "    }\n",
              "\n",
              "    .dataframe tbody tr th {\n",
              "        vertical-align: top;\n",
              "    }\n",
              "\n",
              "    .dataframe thead th {\n",
              "        text-align: right;\n",
              "    }\n",
              "</style>\n",
              "<table border=\"1\" class=\"dataframe\">\n",
              "  <thead>\n",
              "    <tr style=\"text-align: right;\">\n",
              "      <th></th>\n",
              "      <th>mean radius</th>\n",
              "      <th>mean texture</th>\n",
              "      <th>mean perimeter</th>\n",
              "      <th>mean area</th>\n",
              "      <th>mean smoothness</th>\n",
              "      <th>mean compactness</th>\n",
              "      <th>mean concavity</th>\n",
              "      <th>mean concave points</th>\n",
              "      <th>mean symmetry</th>\n",
              "      <th>mean fractal dimension</th>\n",
              "      <th>radius error</th>\n",
              "      <th>texture error</th>\n",
              "      <th>perimeter error</th>\n",
              "      <th>area error</th>\n",
              "      <th>smoothness error</th>\n",
              "      <th>compactness error</th>\n",
              "      <th>concavity error</th>\n",
              "      <th>concave points error</th>\n",
              "      <th>symmetry error</th>\n",
              "      <th>fractal dimension error</th>\n",
              "      <th>worst radius</th>\n",
              "      <th>worst texture</th>\n",
              "      <th>worst perimeter</th>\n",
              "      <th>worst area</th>\n",
              "      <th>worst smoothness</th>\n",
              "      <th>worst compactness</th>\n",
              "      <th>worst concavity</th>\n",
              "      <th>worst concave points</th>\n",
              "      <th>worst symmetry</th>\n",
              "      <th>worst fractal dimension</th>\n",
              "    </tr>\n",
              "  </thead>\n",
              "  <tbody>\n",
              "    <tr>\n",
              "      <th>0</th>\n",
              "      <td>17.99</td>\n",
              "      <td>10.38</td>\n",
              "      <td>122.80</td>\n",
              "      <td>1001.0</td>\n",
              "      <td>0.11840</td>\n",
              "      <td>0.27760</td>\n",
              "      <td>0.30010</td>\n",
              "      <td>0.14710</td>\n",
              "      <td>0.2419</td>\n",
              "      <td>0.07871</td>\n",
              "      <td>1.0950</td>\n",
              "      <td>0.9053</td>\n",
              "      <td>8.589</td>\n",
              "      <td>153.40</td>\n",
              "      <td>0.006399</td>\n",
              "      <td>0.04904</td>\n",
              "      <td>0.05373</td>\n",
              "      <td>0.01587</td>\n",
              "      <td>0.03003</td>\n",
              "      <td>0.006193</td>\n",
              "      <td>25.380</td>\n",
              "      <td>17.33</td>\n",
              "      <td>184.60</td>\n",
              "      <td>2019.0</td>\n",
              "      <td>0.16220</td>\n",
              "      <td>0.66560</td>\n",
              "      <td>0.7119</td>\n",
              "      <td>0.2654</td>\n",
              "      <td>0.4601</td>\n",
              "      <td>0.11890</td>\n",
              "    </tr>\n",
              "    <tr>\n",
              "      <th>1</th>\n",
              "      <td>20.57</td>\n",
              "      <td>17.77</td>\n",
              "      <td>132.90</td>\n",
              "      <td>1326.0</td>\n",
              "      <td>0.08474</td>\n",
              "      <td>0.07864</td>\n",
              "      <td>0.08690</td>\n",
              "      <td>0.07017</td>\n",
              "      <td>0.1812</td>\n",
              "      <td>0.05667</td>\n",
              "      <td>0.5435</td>\n",
              "      <td>0.7339</td>\n",
              "      <td>3.398</td>\n",
              "      <td>74.08</td>\n",
              "      <td>0.005225</td>\n",
              "      <td>0.01308</td>\n",
              "      <td>0.01860</td>\n",
              "      <td>0.01340</td>\n",
              "      <td>0.01389</td>\n",
              "      <td>0.003532</td>\n",
              "      <td>24.990</td>\n",
              "      <td>23.41</td>\n",
              "      <td>158.80</td>\n",
              "      <td>1956.0</td>\n",
              "      <td>0.12380</td>\n",
              "      <td>0.18660</td>\n",
              "      <td>0.2416</td>\n",
              "      <td>0.1860</td>\n",
              "      <td>0.2750</td>\n",
              "      <td>0.08902</td>\n",
              "    </tr>\n",
              "    <tr>\n",
              "      <th>2</th>\n",
              "      <td>19.69</td>\n",
              "      <td>21.25</td>\n",
              "      <td>130.00</td>\n",
              "      <td>1203.0</td>\n",
              "      <td>0.10960</td>\n",
              "      <td>0.15990</td>\n",
              "      <td>0.19740</td>\n",
              "      <td>0.12790</td>\n",
              "      <td>0.2069</td>\n",
              "      <td>0.05999</td>\n",
              "      <td>0.7456</td>\n",
              "      <td>0.7869</td>\n",
              "      <td>4.585</td>\n",
              "      <td>94.03</td>\n",
              "      <td>0.006150</td>\n",
              "      <td>0.04006</td>\n",
              "      <td>0.03832</td>\n",
              "      <td>0.02058</td>\n",
              "      <td>0.02250</td>\n",
              "      <td>0.004571</td>\n",
              "      <td>23.570</td>\n",
              "      <td>25.53</td>\n",
              "      <td>152.50</td>\n",
              "      <td>1709.0</td>\n",
              "      <td>0.14440</td>\n",
              "      <td>0.42450</td>\n",
              "      <td>0.4504</td>\n",
              "      <td>0.2430</td>\n",
              "      <td>0.3613</td>\n",
              "      <td>0.08758</td>\n",
              "    </tr>\n",
              "    <tr>\n",
              "      <th>3</th>\n",
              "      <td>11.42</td>\n",
              "      <td>20.38</td>\n",
              "      <td>77.58</td>\n",
              "      <td>386.1</td>\n",
              "      <td>0.14250</td>\n",
              "      <td>0.28390</td>\n",
              "      <td>0.24140</td>\n",
              "      <td>0.10520</td>\n",
              "      <td>0.2597</td>\n",
              "      <td>0.09744</td>\n",
              "      <td>0.4956</td>\n",
              "      <td>1.1560</td>\n",
              "      <td>3.445</td>\n",
              "      <td>27.23</td>\n",
              "      <td>0.009110</td>\n",
              "      <td>0.07458</td>\n",
              "      <td>0.05661</td>\n",
              "      <td>0.01867</td>\n",
              "      <td>0.05963</td>\n",
              "      <td>0.009208</td>\n",
              "      <td>14.910</td>\n",
              "      <td>26.50</td>\n",
              "      <td>98.87</td>\n",
              "      <td>567.7</td>\n",
              "      <td>0.20980</td>\n",
              "      <td>0.86630</td>\n",
              "      <td>0.6869</td>\n",
              "      <td>0.2575</td>\n",
              "      <td>0.6638</td>\n",
              "      <td>0.17300</td>\n",
              "    </tr>\n",
              "    <tr>\n",
              "      <th>4</th>\n",
              "      <td>20.29</td>\n",
              "      <td>14.34</td>\n",
              "      <td>135.10</td>\n",
              "      <td>1297.0</td>\n",
              "      <td>0.10030</td>\n",
              "      <td>0.13280</td>\n",
              "      <td>0.19800</td>\n",
              "      <td>0.10430</td>\n",
              "      <td>0.1809</td>\n",
              "      <td>0.05883</td>\n",
              "      <td>0.7572</td>\n",
              "      <td>0.7813</td>\n",
              "      <td>5.438</td>\n",
              "      <td>94.44</td>\n",
              "      <td>0.011490</td>\n",
              "      <td>0.02461</td>\n",
              "      <td>0.05688</td>\n",
              "      <td>0.01885</td>\n",
              "      <td>0.01756</td>\n",
              "      <td>0.005115</td>\n",
              "      <td>22.540</td>\n",
              "      <td>16.67</td>\n",
              "      <td>152.20</td>\n",
              "      <td>1575.0</td>\n",
              "      <td>0.13740</td>\n",
              "      <td>0.20500</td>\n",
              "      <td>0.4000</td>\n",
              "      <td>0.1625</td>\n",
              "      <td>0.2364</td>\n",
              "      <td>0.07678</td>\n",
              "    </tr>\n",
              "    <tr>\n",
              "      <th>...</th>\n",
              "      <td>...</td>\n",
              "      <td>...</td>\n",
              "      <td>...</td>\n",
              "      <td>...</td>\n",
              "      <td>...</td>\n",
              "      <td>...</td>\n",
              "      <td>...</td>\n",
              "      <td>...</td>\n",
              "      <td>...</td>\n",
              "      <td>...</td>\n",
              "      <td>...</td>\n",
              "      <td>...</td>\n",
              "      <td>...</td>\n",
              "      <td>...</td>\n",
              "      <td>...</td>\n",
              "      <td>...</td>\n",
              "      <td>...</td>\n",
              "      <td>...</td>\n",
              "      <td>...</td>\n",
              "      <td>...</td>\n",
              "      <td>...</td>\n",
              "      <td>...</td>\n",
              "      <td>...</td>\n",
              "      <td>...</td>\n",
              "      <td>...</td>\n",
              "      <td>...</td>\n",
              "      <td>...</td>\n",
              "      <td>...</td>\n",
              "      <td>...</td>\n",
              "      <td>...</td>\n",
              "    </tr>\n",
              "    <tr>\n",
              "      <th>564</th>\n",
              "      <td>21.56</td>\n",
              "      <td>22.39</td>\n",
              "      <td>142.00</td>\n",
              "      <td>1479.0</td>\n",
              "      <td>0.11100</td>\n",
              "      <td>0.11590</td>\n",
              "      <td>0.24390</td>\n",
              "      <td>0.13890</td>\n",
              "      <td>0.1726</td>\n",
              "      <td>0.05623</td>\n",
              "      <td>1.1760</td>\n",
              "      <td>1.2560</td>\n",
              "      <td>7.673</td>\n",
              "      <td>158.70</td>\n",
              "      <td>0.010300</td>\n",
              "      <td>0.02891</td>\n",
              "      <td>0.05198</td>\n",
              "      <td>0.02454</td>\n",
              "      <td>0.01114</td>\n",
              "      <td>0.004239</td>\n",
              "      <td>25.450</td>\n",
              "      <td>26.40</td>\n",
              "      <td>166.10</td>\n",
              "      <td>2027.0</td>\n",
              "      <td>0.14100</td>\n",
              "      <td>0.21130</td>\n",
              "      <td>0.4107</td>\n",
              "      <td>0.2216</td>\n",
              "      <td>0.2060</td>\n",
              "      <td>0.07115</td>\n",
              "    </tr>\n",
              "    <tr>\n",
              "      <th>565</th>\n",
              "      <td>20.13</td>\n",
              "      <td>28.25</td>\n",
              "      <td>131.20</td>\n",
              "      <td>1261.0</td>\n",
              "      <td>0.09780</td>\n",
              "      <td>0.10340</td>\n",
              "      <td>0.14400</td>\n",
              "      <td>0.09791</td>\n",
              "      <td>0.1752</td>\n",
              "      <td>0.05533</td>\n",
              "      <td>0.7655</td>\n",
              "      <td>2.4630</td>\n",
              "      <td>5.203</td>\n",
              "      <td>99.04</td>\n",
              "      <td>0.005769</td>\n",
              "      <td>0.02423</td>\n",
              "      <td>0.03950</td>\n",
              "      <td>0.01678</td>\n",
              "      <td>0.01898</td>\n",
              "      <td>0.002498</td>\n",
              "      <td>23.690</td>\n",
              "      <td>38.25</td>\n",
              "      <td>155.00</td>\n",
              "      <td>1731.0</td>\n",
              "      <td>0.11660</td>\n",
              "      <td>0.19220</td>\n",
              "      <td>0.3215</td>\n",
              "      <td>0.1628</td>\n",
              "      <td>0.2572</td>\n",
              "      <td>0.06637</td>\n",
              "    </tr>\n",
              "    <tr>\n",
              "      <th>566</th>\n",
              "      <td>16.60</td>\n",
              "      <td>28.08</td>\n",
              "      <td>108.30</td>\n",
              "      <td>858.1</td>\n",
              "      <td>0.08455</td>\n",
              "      <td>0.10230</td>\n",
              "      <td>0.09251</td>\n",
              "      <td>0.05302</td>\n",
              "      <td>0.1590</td>\n",
              "      <td>0.05648</td>\n",
              "      <td>0.4564</td>\n",
              "      <td>1.0750</td>\n",
              "      <td>3.425</td>\n",
              "      <td>48.55</td>\n",
              "      <td>0.005903</td>\n",
              "      <td>0.03731</td>\n",
              "      <td>0.04730</td>\n",
              "      <td>0.01557</td>\n",
              "      <td>0.01318</td>\n",
              "      <td>0.003892</td>\n",
              "      <td>18.980</td>\n",
              "      <td>34.12</td>\n",
              "      <td>126.70</td>\n",
              "      <td>1124.0</td>\n",
              "      <td>0.11390</td>\n",
              "      <td>0.30940</td>\n",
              "      <td>0.3403</td>\n",
              "      <td>0.1418</td>\n",
              "      <td>0.2218</td>\n",
              "      <td>0.07820</td>\n",
              "    </tr>\n",
              "    <tr>\n",
              "      <th>567</th>\n",
              "      <td>20.60</td>\n",
              "      <td>29.33</td>\n",
              "      <td>140.10</td>\n",
              "      <td>1265.0</td>\n",
              "      <td>0.11780</td>\n",
              "      <td>0.27700</td>\n",
              "      <td>0.35140</td>\n",
              "      <td>0.15200</td>\n",
              "      <td>0.2397</td>\n",
              "      <td>0.07016</td>\n",
              "      <td>0.7260</td>\n",
              "      <td>1.5950</td>\n",
              "      <td>5.772</td>\n",
              "      <td>86.22</td>\n",
              "      <td>0.006522</td>\n",
              "      <td>0.06158</td>\n",
              "      <td>0.07117</td>\n",
              "      <td>0.01664</td>\n",
              "      <td>0.02324</td>\n",
              "      <td>0.006185</td>\n",
              "      <td>25.740</td>\n",
              "      <td>39.42</td>\n",
              "      <td>184.60</td>\n",
              "      <td>1821.0</td>\n",
              "      <td>0.16500</td>\n",
              "      <td>0.86810</td>\n",
              "      <td>0.9387</td>\n",
              "      <td>0.2650</td>\n",
              "      <td>0.4087</td>\n",
              "      <td>0.12400</td>\n",
              "    </tr>\n",
              "    <tr>\n",
              "      <th>568</th>\n",
              "      <td>7.76</td>\n",
              "      <td>24.54</td>\n",
              "      <td>47.92</td>\n",
              "      <td>181.0</td>\n",
              "      <td>0.05263</td>\n",
              "      <td>0.04362</td>\n",
              "      <td>0.00000</td>\n",
              "      <td>0.00000</td>\n",
              "      <td>0.1587</td>\n",
              "      <td>0.05884</td>\n",
              "      <td>0.3857</td>\n",
              "      <td>1.4280</td>\n",
              "      <td>2.548</td>\n",
              "      <td>19.15</td>\n",
              "      <td>0.007189</td>\n",
              "      <td>0.00466</td>\n",
              "      <td>0.00000</td>\n",
              "      <td>0.00000</td>\n",
              "      <td>0.02676</td>\n",
              "      <td>0.002783</td>\n",
              "      <td>9.456</td>\n",
              "      <td>30.37</td>\n",
              "      <td>59.16</td>\n",
              "      <td>268.6</td>\n",
              "      <td>0.08996</td>\n",
              "      <td>0.06444</td>\n",
              "      <td>0.0000</td>\n",
              "      <td>0.0000</td>\n",
              "      <td>0.2871</td>\n",
              "      <td>0.07039</td>\n",
              "    </tr>\n",
              "  </tbody>\n",
              "</table>\n",
              "<p>569 rows × 30 columns</p>\n",
              "</div>"
            ],
            "text/plain": [
              "     mean radius  mean texture  ...  worst symmetry  worst fractal dimension\n",
              "0          17.99         10.38  ...          0.4601                  0.11890\n",
              "1          20.57         17.77  ...          0.2750                  0.08902\n",
              "2          19.69         21.25  ...          0.3613                  0.08758\n",
              "3          11.42         20.38  ...          0.6638                  0.17300\n",
              "4          20.29         14.34  ...          0.2364                  0.07678\n",
              "..           ...           ...  ...             ...                      ...\n",
              "564        21.56         22.39  ...          0.2060                  0.07115\n",
              "565        20.13         28.25  ...          0.2572                  0.06637\n",
              "566        16.60         28.08  ...          0.2218                  0.07820\n",
              "567        20.60         29.33  ...          0.4087                  0.12400\n",
              "568         7.76         24.54  ...          0.2871                  0.07039\n",
              "\n",
              "[569 rows x 30 columns]"
            ]
          },
          "metadata": {
            "tags": []
          },
          "execution_count": 9
        }
      ]
    },
    {
      "cell_type": "code",
      "metadata": {
        "id": "g8TzEHmLwSVs",
        "outputId": "f51af0a0-1019-47af-812b-de260e558b6f",
        "colab": {
          "base_uri": "https://localhost:8080/",
          "height": 581
        }
      },
      "source": [
        "data.isnull().sum() #checking for null values"
      ],
      "execution_count": 10,
      "outputs": [
        {
          "output_type": "execute_result",
          "data": {
            "text/plain": [
              "mean radius                0\n",
              "mean texture               0\n",
              "mean perimeter             0\n",
              "mean area                  0\n",
              "mean smoothness            0\n",
              "mean compactness           0\n",
              "mean concavity             0\n",
              "mean concave points        0\n",
              "mean symmetry              0\n",
              "mean fractal dimension     0\n",
              "radius error               0\n",
              "texture error              0\n",
              "perimeter error            0\n",
              "area error                 0\n",
              "smoothness error           0\n",
              "compactness error          0\n",
              "concavity error            0\n",
              "concave points error       0\n",
              "symmetry error             0\n",
              "fractal dimension error    0\n",
              "worst radius               0\n",
              "worst texture              0\n",
              "worst perimeter            0\n",
              "worst area                 0\n",
              "worst smoothness           0\n",
              "worst compactness          0\n",
              "worst concavity            0\n",
              "worst concave points       0\n",
              "worst symmetry             0\n",
              "worst fractal dimension    0\n",
              "dtype: int64"
            ]
          },
          "metadata": {
            "tags": []
          },
          "execution_count": 10
        }
      ]
    },
    {
      "cell_type": "code",
      "metadata": {
        "id": "OVglKdjwr9RY",
        "outputId": "c4f5dcfa-5014-498f-b332-02989f8decdc",
        "colab": {
          "base_uri": "https://localhost:8080/",
          "height": 462
        }
      },
      "source": [
        "data['class'] = breast_cancer.target #adding a new column to the dataframe\n",
        "data"
      ],
      "execution_count": 11,
      "outputs": [
        {
          "output_type": "execute_result",
          "data": {
            "text/html": [
              "<div>\n",
              "<style scoped>\n",
              "    .dataframe tbody tr th:only-of-type {\n",
              "        vertical-align: middle;\n",
              "    }\n",
              "\n",
              "    .dataframe tbody tr th {\n",
              "        vertical-align: top;\n",
              "    }\n",
              "\n",
              "    .dataframe thead th {\n",
              "        text-align: right;\n",
              "    }\n",
              "</style>\n",
              "<table border=\"1\" class=\"dataframe\">\n",
              "  <thead>\n",
              "    <tr style=\"text-align: right;\">\n",
              "      <th></th>\n",
              "      <th>mean radius</th>\n",
              "      <th>mean texture</th>\n",
              "      <th>mean perimeter</th>\n",
              "      <th>mean area</th>\n",
              "      <th>mean smoothness</th>\n",
              "      <th>mean compactness</th>\n",
              "      <th>mean concavity</th>\n",
              "      <th>mean concave points</th>\n",
              "      <th>mean symmetry</th>\n",
              "      <th>mean fractal dimension</th>\n",
              "      <th>radius error</th>\n",
              "      <th>texture error</th>\n",
              "      <th>perimeter error</th>\n",
              "      <th>area error</th>\n",
              "      <th>smoothness error</th>\n",
              "      <th>compactness error</th>\n",
              "      <th>concavity error</th>\n",
              "      <th>concave points error</th>\n",
              "      <th>symmetry error</th>\n",
              "      <th>fractal dimension error</th>\n",
              "      <th>worst radius</th>\n",
              "      <th>worst texture</th>\n",
              "      <th>worst perimeter</th>\n",
              "      <th>worst area</th>\n",
              "      <th>worst smoothness</th>\n",
              "      <th>worst compactness</th>\n",
              "      <th>worst concavity</th>\n",
              "      <th>worst concave points</th>\n",
              "      <th>worst symmetry</th>\n",
              "      <th>worst fractal dimension</th>\n",
              "      <th>class</th>\n",
              "    </tr>\n",
              "  </thead>\n",
              "  <tbody>\n",
              "    <tr>\n",
              "      <th>0</th>\n",
              "      <td>17.99</td>\n",
              "      <td>10.38</td>\n",
              "      <td>122.80</td>\n",
              "      <td>1001.0</td>\n",
              "      <td>0.11840</td>\n",
              "      <td>0.27760</td>\n",
              "      <td>0.30010</td>\n",
              "      <td>0.14710</td>\n",
              "      <td>0.2419</td>\n",
              "      <td>0.07871</td>\n",
              "      <td>1.0950</td>\n",
              "      <td>0.9053</td>\n",
              "      <td>8.589</td>\n",
              "      <td>153.40</td>\n",
              "      <td>0.006399</td>\n",
              "      <td>0.04904</td>\n",
              "      <td>0.05373</td>\n",
              "      <td>0.01587</td>\n",
              "      <td>0.03003</td>\n",
              "      <td>0.006193</td>\n",
              "      <td>25.380</td>\n",
              "      <td>17.33</td>\n",
              "      <td>184.60</td>\n",
              "      <td>2019.0</td>\n",
              "      <td>0.16220</td>\n",
              "      <td>0.66560</td>\n",
              "      <td>0.7119</td>\n",
              "      <td>0.2654</td>\n",
              "      <td>0.4601</td>\n",
              "      <td>0.11890</td>\n",
              "      <td>0</td>\n",
              "    </tr>\n",
              "    <tr>\n",
              "      <th>1</th>\n",
              "      <td>20.57</td>\n",
              "      <td>17.77</td>\n",
              "      <td>132.90</td>\n",
              "      <td>1326.0</td>\n",
              "      <td>0.08474</td>\n",
              "      <td>0.07864</td>\n",
              "      <td>0.08690</td>\n",
              "      <td>0.07017</td>\n",
              "      <td>0.1812</td>\n",
              "      <td>0.05667</td>\n",
              "      <td>0.5435</td>\n",
              "      <td>0.7339</td>\n",
              "      <td>3.398</td>\n",
              "      <td>74.08</td>\n",
              "      <td>0.005225</td>\n",
              "      <td>0.01308</td>\n",
              "      <td>0.01860</td>\n",
              "      <td>0.01340</td>\n",
              "      <td>0.01389</td>\n",
              "      <td>0.003532</td>\n",
              "      <td>24.990</td>\n",
              "      <td>23.41</td>\n",
              "      <td>158.80</td>\n",
              "      <td>1956.0</td>\n",
              "      <td>0.12380</td>\n",
              "      <td>0.18660</td>\n",
              "      <td>0.2416</td>\n",
              "      <td>0.1860</td>\n",
              "      <td>0.2750</td>\n",
              "      <td>0.08902</td>\n",
              "      <td>0</td>\n",
              "    </tr>\n",
              "    <tr>\n",
              "      <th>2</th>\n",
              "      <td>19.69</td>\n",
              "      <td>21.25</td>\n",
              "      <td>130.00</td>\n",
              "      <td>1203.0</td>\n",
              "      <td>0.10960</td>\n",
              "      <td>0.15990</td>\n",
              "      <td>0.19740</td>\n",
              "      <td>0.12790</td>\n",
              "      <td>0.2069</td>\n",
              "      <td>0.05999</td>\n",
              "      <td>0.7456</td>\n",
              "      <td>0.7869</td>\n",
              "      <td>4.585</td>\n",
              "      <td>94.03</td>\n",
              "      <td>0.006150</td>\n",
              "      <td>0.04006</td>\n",
              "      <td>0.03832</td>\n",
              "      <td>0.02058</td>\n",
              "      <td>0.02250</td>\n",
              "      <td>0.004571</td>\n",
              "      <td>23.570</td>\n",
              "      <td>25.53</td>\n",
              "      <td>152.50</td>\n",
              "      <td>1709.0</td>\n",
              "      <td>0.14440</td>\n",
              "      <td>0.42450</td>\n",
              "      <td>0.4504</td>\n",
              "      <td>0.2430</td>\n",
              "      <td>0.3613</td>\n",
              "      <td>0.08758</td>\n",
              "      <td>0</td>\n",
              "    </tr>\n",
              "    <tr>\n",
              "      <th>3</th>\n",
              "      <td>11.42</td>\n",
              "      <td>20.38</td>\n",
              "      <td>77.58</td>\n",
              "      <td>386.1</td>\n",
              "      <td>0.14250</td>\n",
              "      <td>0.28390</td>\n",
              "      <td>0.24140</td>\n",
              "      <td>0.10520</td>\n",
              "      <td>0.2597</td>\n",
              "      <td>0.09744</td>\n",
              "      <td>0.4956</td>\n",
              "      <td>1.1560</td>\n",
              "      <td>3.445</td>\n",
              "      <td>27.23</td>\n",
              "      <td>0.009110</td>\n",
              "      <td>0.07458</td>\n",
              "      <td>0.05661</td>\n",
              "      <td>0.01867</td>\n",
              "      <td>0.05963</td>\n",
              "      <td>0.009208</td>\n",
              "      <td>14.910</td>\n",
              "      <td>26.50</td>\n",
              "      <td>98.87</td>\n",
              "      <td>567.7</td>\n",
              "      <td>0.20980</td>\n",
              "      <td>0.86630</td>\n",
              "      <td>0.6869</td>\n",
              "      <td>0.2575</td>\n",
              "      <td>0.6638</td>\n",
              "      <td>0.17300</td>\n",
              "      <td>0</td>\n",
              "    </tr>\n",
              "    <tr>\n",
              "      <th>4</th>\n",
              "      <td>20.29</td>\n",
              "      <td>14.34</td>\n",
              "      <td>135.10</td>\n",
              "      <td>1297.0</td>\n",
              "      <td>0.10030</td>\n",
              "      <td>0.13280</td>\n",
              "      <td>0.19800</td>\n",
              "      <td>0.10430</td>\n",
              "      <td>0.1809</td>\n",
              "      <td>0.05883</td>\n",
              "      <td>0.7572</td>\n",
              "      <td>0.7813</td>\n",
              "      <td>5.438</td>\n",
              "      <td>94.44</td>\n",
              "      <td>0.011490</td>\n",
              "      <td>0.02461</td>\n",
              "      <td>0.05688</td>\n",
              "      <td>0.01885</td>\n",
              "      <td>0.01756</td>\n",
              "      <td>0.005115</td>\n",
              "      <td>22.540</td>\n",
              "      <td>16.67</td>\n",
              "      <td>152.20</td>\n",
              "      <td>1575.0</td>\n",
              "      <td>0.13740</td>\n",
              "      <td>0.20500</td>\n",
              "      <td>0.4000</td>\n",
              "      <td>0.1625</td>\n",
              "      <td>0.2364</td>\n",
              "      <td>0.07678</td>\n",
              "      <td>0</td>\n",
              "    </tr>\n",
              "    <tr>\n",
              "      <th>...</th>\n",
              "      <td>...</td>\n",
              "      <td>...</td>\n",
              "      <td>...</td>\n",
              "      <td>...</td>\n",
              "      <td>...</td>\n",
              "      <td>...</td>\n",
              "      <td>...</td>\n",
              "      <td>...</td>\n",
              "      <td>...</td>\n",
              "      <td>...</td>\n",
              "      <td>...</td>\n",
              "      <td>...</td>\n",
              "      <td>...</td>\n",
              "      <td>...</td>\n",
              "      <td>...</td>\n",
              "      <td>...</td>\n",
              "      <td>...</td>\n",
              "      <td>...</td>\n",
              "      <td>...</td>\n",
              "      <td>...</td>\n",
              "      <td>...</td>\n",
              "      <td>...</td>\n",
              "      <td>...</td>\n",
              "      <td>...</td>\n",
              "      <td>...</td>\n",
              "      <td>...</td>\n",
              "      <td>...</td>\n",
              "      <td>...</td>\n",
              "      <td>...</td>\n",
              "      <td>...</td>\n",
              "      <td>...</td>\n",
              "    </tr>\n",
              "    <tr>\n",
              "      <th>564</th>\n",
              "      <td>21.56</td>\n",
              "      <td>22.39</td>\n",
              "      <td>142.00</td>\n",
              "      <td>1479.0</td>\n",
              "      <td>0.11100</td>\n",
              "      <td>0.11590</td>\n",
              "      <td>0.24390</td>\n",
              "      <td>0.13890</td>\n",
              "      <td>0.1726</td>\n",
              "      <td>0.05623</td>\n",
              "      <td>1.1760</td>\n",
              "      <td>1.2560</td>\n",
              "      <td>7.673</td>\n",
              "      <td>158.70</td>\n",
              "      <td>0.010300</td>\n",
              "      <td>0.02891</td>\n",
              "      <td>0.05198</td>\n",
              "      <td>0.02454</td>\n",
              "      <td>0.01114</td>\n",
              "      <td>0.004239</td>\n",
              "      <td>25.450</td>\n",
              "      <td>26.40</td>\n",
              "      <td>166.10</td>\n",
              "      <td>2027.0</td>\n",
              "      <td>0.14100</td>\n",
              "      <td>0.21130</td>\n",
              "      <td>0.4107</td>\n",
              "      <td>0.2216</td>\n",
              "      <td>0.2060</td>\n",
              "      <td>0.07115</td>\n",
              "      <td>0</td>\n",
              "    </tr>\n",
              "    <tr>\n",
              "      <th>565</th>\n",
              "      <td>20.13</td>\n",
              "      <td>28.25</td>\n",
              "      <td>131.20</td>\n",
              "      <td>1261.0</td>\n",
              "      <td>0.09780</td>\n",
              "      <td>0.10340</td>\n",
              "      <td>0.14400</td>\n",
              "      <td>0.09791</td>\n",
              "      <td>0.1752</td>\n",
              "      <td>0.05533</td>\n",
              "      <td>0.7655</td>\n",
              "      <td>2.4630</td>\n",
              "      <td>5.203</td>\n",
              "      <td>99.04</td>\n",
              "      <td>0.005769</td>\n",
              "      <td>0.02423</td>\n",
              "      <td>0.03950</td>\n",
              "      <td>0.01678</td>\n",
              "      <td>0.01898</td>\n",
              "      <td>0.002498</td>\n",
              "      <td>23.690</td>\n",
              "      <td>38.25</td>\n",
              "      <td>155.00</td>\n",
              "      <td>1731.0</td>\n",
              "      <td>0.11660</td>\n",
              "      <td>0.19220</td>\n",
              "      <td>0.3215</td>\n",
              "      <td>0.1628</td>\n",
              "      <td>0.2572</td>\n",
              "      <td>0.06637</td>\n",
              "      <td>0</td>\n",
              "    </tr>\n",
              "    <tr>\n",
              "      <th>566</th>\n",
              "      <td>16.60</td>\n",
              "      <td>28.08</td>\n",
              "      <td>108.30</td>\n",
              "      <td>858.1</td>\n",
              "      <td>0.08455</td>\n",
              "      <td>0.10230</td>\n",
              "      <td>0.09251</td>\n",
              "      <td>0.05302</td>\n",
              "      <td>0.1590</td>\n",
              "      <td>0.05648</td>\n",
              "      <td>0.4564</td>\n",
              "      <td>1.0750</td>\n",
              "      <td>3.425</td>\n",
              "      <td>48.55</td>\n",
              "      <td>0.005903</td>\n",
              "      <td>0.03731</td>\n",
              "      <td>0.04730</td>\n",
              "      <td>0.01557</td>\n",
              "      <td>0.01318</td>\n",
              "      <td>0.003892</td>\n",
              "      <td>18.980</td>\n",
              "      <td>34.12</td>\n",
              "      <td>126.70</td>\n",
              "      <td>1124.0</td>\n",
              "      <td>0.11390</td>\n",
              "      <td>0.30940</td>\n",
              "      <td>0.3403</td>\n",
              "      <td>0.1418</td>\n",
              "      <td>0.2218</td>\n",
              "      <td>0.07820</td>\n",
              "      <td>0</td>\n",
              "    </tr>\n",
              "    <tr>\n",
              "      <th>567</th>\n",
              "      <td>20.60</td>\n",
              "      <td>29.33</td>\n",
              "      <td>140.10</td>\n",
              "      <td>1265.0</td>\n",
              "      <td>0.11780</td>\n",
              "      <td>0.27700</td>\n",
              "      <td>0.35140</td>\n",
              "      <td>0.15200</td>\n",
              "      <td>0.2397</td>\n",
              "      <td>0.07016</td>\n",
              "      <td>0.7260</td>\n",
              "      <td>1.5950</td>\n",
              "      <td>5.772</td>\n",
              "      <td>86.22</td>\n",
              "      <td>0.006522</td>\n",
              "      <td>0.06158</td>\n",
              "      <td>0.07117</td>\n",
              "      <td>0.01664</td>\n",
              "      <td>0.02324</td>\n",
              "      <td>0.006185</td>\n",
              "      <td>25.740</td>\n",
              "      <td>39.42</td>\n",
              "      <td>184.60</td>\n",
              "      <td>1821.0</td>\n",
              "      <td>0.16500</td>\n",
              "      <td>0.86810</td>\n",
              "      <td>0.9387</td>\n",
              "      <td>0.2650</td>\n",
              "      <td>0.4087</td>\n",
              "      <td>0.12400</td>\n",
              "      <td>0</td>\n",
              "    </tr>\n",
              "    <tr>\n",
              "      <th>568</th>\n",
              "      <td>7.76</td>\n",
              "      <td>24.54</td>\n",
              "      <td>47.92</td>\n",
              "      <td>181.0</td>\n",
              "      <td>0.05263</td>\n",
              "      <td>0.04362</td>\n",
              "      <td>0.00000</td>\n",
              "      <td>0.00000</td>\n",
              "      <td>0.1587</td>\n",
              "      <td>0.05884</td>\n",
              "      <td>0.3857</td>\n",
              "      <td>1.4280</td>\n",
              "      <td>2.548</td>\n",
              "      <td>19.15</td>\n",
              "      <td>0.007189</td>\n",
              "      <td>0.00466</td>\n",
              "      <td>0.00000</td>\n",
              "      <td>0.00000</td>\n",
              "      <td>0.02676</td>\n",
              "      <td>0.002783</td>\n",
              "      <td>9.456</td>\n",
              "      <td>30.37</td>\n",
              "      <td>59.16</td>\n",
              "      <td>268.6</td>\n",
              "      <td>0.08996</td>\n",
              "      <td>0.06444</td>\n",
              "      <td>0.0000</td>\n",
              "      <td>0.0000</td>\n",
              "      <td>0.2871</td>\n",
              "      <td>0.07039</td>\n",
              "      <td>1</td>\n",
              "    </tr>\n",
              "  </tbody>\n",
              "</table>\n",
              "<p>569 rows × 31 columns</p>\n",
              "</div>"
            ],
            "text/plain": [
              "     mean radius  mean texture  ...  worst fractal dimension  class\n",
              "0          17.99         10.38  ...                  0.11890      0\n",
              "1          20.57         17.77  ...                  0.08902      0\n",
              "2          19.69         21.25  ...                  0.08758      0\n",
              "3          11.42         20.38  ...                  0.17300      0\n",
              "4          20.29         14.34  ...                  0.07678      0\n",
              "..           ...           ...  ...                      ...    ...\n",
              "564        21.56         22.39  ...                  0.07115      0\n",
              "565        20.13         28.25  ...                  0.06637      0\n",
              "566        16.60         28.08  ...                  0.07820      0\n",
              "567        20.60         29.33  ...                  0.12400      0\n",
              "568         7.76         24.54  ...                  0.07039      1\n",
              "\n",
              "[569 rows x 31 columns]"
            ]
          },
          "metadata": {
            "tags": []
          },
          "execution_count": 11
        }
      ]
    },
    {
      "cell_type": "code",
      "metadata": {
        "id": "N233Z5FNtdCh",
        "outputId": "5a6ce530-6d5a-4225-9d5a-7de6f379dfbf",
        "colab": {
          "base_uri": "https://localhost:8080/",
          "height": 343
        }
      },
      "source": [
        "data.describe() #some descriptions of the dataset"
      ],
      "execution_count": 12,
      "outputs": [
        {
          "output_type": "execute_result",
          "data": {
            "text/html": [
              "<div>\n",
              "<style scoped>\n",
              "    .dataframe tbody tr th:only-of-type {\n",
              "        vertical-align: middle;\n",
              "    }\n",
              "\n",
              "    .dataframe tbody tr th {\n",
              "        vertical-align: top;\n",
              "    }\n",
              "\n",
              "    .dataframe thead th {\n",
              "        text-align: right;\n",
              "    }\n",
              "</style>\n",
              "<table border=\"1\" class=\"dataframe\">\n",
              "  <thead>\n",
              "    <tr style=\"text-align: right;\">\n",
              "      <th></th>\n",
              "      <th>mean radius</th>\n",
              "      <th>mean texture</th>\n",
              "      <th>mean perimeter</th>\n",
              "      <th>mean area</th>\n",
              "      <th>mean smoothness</th>\n",
              "      <th>mean compactness</th>\n",
              "      <th>mean concavity</th>\n",
              "      <th>mean concave points</th>\n",
              "      <th>mean symmetry</th>\n",
              "      <th>mean fractal dimension</th>\n",
              "      <th>radius error</th>\n",
              "      <th>texture error</th>\n",
              "      <th>perimeter error</th>\n",
              "      <th>area error</th>\n",
              "      <th>smoothness error</th>\n",
              "      <th>compactness error</th>\n",
              "      <th>concavity error</th>\n",
              "      <th>concave points error</th>\n",
              "      <th>symmetry error</th>\n",
              "      <th>fractal dimension error</th>\n",
              "      <th>worst radius</th>\n",
              "      <th>worst texture</th>\n",
              "      <th>worst perimeter</th>\n",
              "      <th>worst area</th>\n",
              "      <th>worst smoothness</th>\n",
              "      <th>worst compactness</th>\n",
              "      <th>worst concavity</th>\n",
              "      <th>worst concave points</th>\n",
              "      <th>worst symmetry</th>\n",
              "      <th>worst fractal dimension</th>\n",
              "      <th>class</th>\n",
              "    </tr>\n",
              "  </thead>\n",
              "  <tbody>\n",
              "    <tr>\n",
              "      <th>count</th>\n",
              "      <td>569.000000</td>\n",
              "      <td>569.000000</td>\n",
              "      <td>569.000000</td>\n",
              "      <td>569.000000</td>\n",
              "      <td>569.000000</td>\n",
              "      <td>569.000000</td>\n",
              "      <td>569.000000</td>\n",
              "      <td>569.000000</td>\n",
              "      <td>569.000000</td>\n",
              "      <td>569.000000</td>\n",
              "      <td>569.000000</td>\n",
              "      <td>569.000000</td>\n",
              "      <td>569.000000</td>\n",
              "      <td>569.000000</td>\n",
              "      <td>569.000000</td>\n",
              "      <td>569.000000</td>\n",
              "      <td>569.000000</td>\n",
              "      <td>569.000000</td>\n",
              "      <td>569.000000</td>\n",
              "      <td>569.000000</td>\n",
              "      <td>569.000000</td>\n",
              "      <td>569.000000</td>\n",
              "      <td>569.000000</td>\n",
              "      <td>569.000000</td>\n",
              "      <td>569.000000</td>\n",
              "      <td>569.000000</td>\n",
              "      <td>569.000000</td>\n",
              "      <td>569.000000</td>\n",
              "      <td>569.000000</td>\n",
              "      <td>569.000000</td>\n",
              "      <td>569.000000</td>\n",
              "    </tr>\n",
              "    <tr>\n",
              "      <th>mean</th>\n",
              "      <td>14.127292</td>\n",
              "      <td>19.289649</td>\n",
              "      <td>91.969033</td>\n",
              "      <td>654.889104</td>\n",
              "      <td>0.096360</td>\n",
              "      <td>0.104341</td>\n",
              "      <td>0.088799</td>\n",
              "      <td>0.048919</td>\n",
              "      <td>0.181162</td>\n",
              "      <td>0.062798</td>\n",
              "      <td>0.405172</td>\n",
              "      <td>1.216853</td>\n",
              "      <td>2.866059</td>\n",
              "      <td>40.337079</td>\n",
              "      <td>0.007041</td>\n",
              "      <td>0.025478</td>\n",
              "      <td>0.031894</td>\n",
              "      <td>0.011796</td>\n",
              "      <td>0.020542</td>\n",
              "      <td>0.003795</td>\n",
              "      <td>16.269190</td>\n",
              "      <td>25.677223</td>\n",
              "      <td>107.261213</td>\n",
              "      <td>880.583128</td>\n",
              "      <td>0.132369</td>\n",
              "      <td>0.254265</td>\n",
              "      <td>0.272188</td>\n",
              "      <td>0.114606</td>\n",
              "      <td>0.290076</td>\n",
              "      <td>0.083946</td>\n",
              "      <td>0.627417</td>\n",
              "    </tr>\n",
              "    <tr>\n",
              "      <th>std</th>\n",
              "      <td>3.524049</td>\n",
              "      <td>4.301036</td>\n",
              "      <td>24.298981</td>\n",
              "      <td>351.914129</td>\n",
              "      <td>0.014064</td>\n",
              "      <td>0.052813</td>\n",
              "      <td>0.079720</td>\n",
              "      <td>0.038803</td>\n",
              "      <td>0.027414</td>\n",
              "      <td>0.007060</td>\n",
              "      <td>0.277313</td>\n",
              "      <td>0.551648</td>\n",
              "      <td>2.021855</td>\n",
              "      <td>45.491006</td>\n",
              "      <td>0.003003</td>\n",
              "      <td>0.017908</td>\n",
              "      <td>0.030186</td>\n",
              "      <td>0.006170</td>\n",
              "      <td>0.008266</td>\n",
              "      <td>0.002646</td>\n",
              "      <td>4.833242</td>\n",
              "      <td>6.146258</td>\n",
              "      <td>33.602542</td>\n",
              "      <td>569.356993</td>\n",
              "      <td>0.022832</td>\n",
              "      <td>0.157336</td>\n",
              "      <td>0.208624</td>\n",
              "      <td>0.065732</td>\n",
              "      <td>0.061867</td>\n",
              "      <td>0.018061</td>\n",
              "      <td>0.483918</td>\n",
              "    </tr>\n",
              "    <tr>\n",
              "      <th>min</th>\n",
              "      <td>6.981000</td>\n",
              "      <td>9.710000</td>\n",
              "      <td>43.790000</td>\n",
              "      <td>143.500000</td>\n",
              "      <td>0.052630</td>\n",
              "      <td>0.019380</td>\n",
              "      <td>0.000000</td>\n",
              "      <td>0.000000</td>\n",
              "      <td>0.106000</td>\n",
              "      <td>0.049960</td>\n",
              "      <td>0.111500</td>\n",
              "      <td>0.360200</td>\n",
              "      <td>0.757000</td>\n",
              "      <td>6.802000</td>\n",
              "      <td>0.001713</td>\n",
              "      <td>0.002252</td>\n",
              "      <td>0.000000</td>\n",
              "      <td>0.000000</td>\n",
              "      <td>0.007882</td>\n",
              "      <td>0.000895</td>\n",
              "      <td>7.930000</td>\n",
              "      <td>12.020000</td>\n",
              "      <td>50.410000</td>\n",
              "      <td>185.200000</td>\n",
              "      <td>0.071170</td>\n",
              "      <td>0.027290</td>\n",
              "      <td>0.000000</td>\n",
              "      <td>0.000000</td>\n",
              "      <td>0.156500</td>\n",
              "      <td>0.055040</td>\n",
              "      <td>0.000000</td>\n",
              "    </tr>\n",
              "    <tr>\n",
              "      <th>25%</th>\n",
              "      <td>11.700000</td>\n",
              "      <td>16.170000</td>\n",
              "      <td>75.170000</td>\n",
              "      <td>420.300000</td>\n",
              "      <td>0.086370</td>\n",
              "      <td>0.064920</td>\n",
              "      <td>0.029560</td>\n",
              "      <td>0.020310</td>\n",
              "      <td>0.161900</td>\n",
              "      <td>0.057700</td>\n",
              "      <td>0.232400</td>\n",
              "      <td>0.833900</td>\n",
              "      <td>1.606000</td>\n",
              "      <td>17.850000</td>\n",
              "      <td>0.005169</td>\n",
              "      <td>0.013080</td>\n",
              "      <td>0.015090</td>\n",
              "      <td>0.007638</td>\n",
              "      <td>0.015160</td>\n",
              "      <td>0.002248</td>\n",
              "      <td>13.010000</td>\n",
              "      <td>21.080000</td>\n",
              "      <td>84.110000</td>\n",
              "      <td>515.300000</td>\n",
              "      <td>0.116600</td>\n",
              "      <td>0.147200</td>\n",
              "      <td>0.114500</td>\n",
              "      <td>0.064930</td>\n",
              "      <td>0.250400</td>\n",
              "      <td>0.071460</td>\n",
              "      <td>0.000000</td>\n",
              "    </tr>\n",
              "    <tr>\n",
              "      <th>50%</th>\n",
              "      <td>13.370000</td>\n",
              "      <td>18.840000</td>\n",
              "      <td>86.240000</td>\n",
              "      <td>551.100000</td>\n",
              "      <td>0.095870</td>\n",
              "      <td>0.092630</td>\n",
              "      <td>0.061540</td>\n",
              "      <td>0.033500</td>\n",
              "      <td>0.179200</td>\n",
              "      <td>0.061540</td>\n",
              "      <td>0.324200</td>\n",
              "      <td>1.108000</td>\n",
              "      <td>2.287000</td>\n",
              "      <td>24.530000</td>\n",
              "      <td>0.006380</td>\n",
              "      <td>0.020450</td>\n",
              "      <td>0.025890</td>\n",
              "      <td>0.010930</td>\n",
              "      <td>0.018730</td>\n",
              "      <td>0.003187</td>\n",
              "      <td>14.970000</td>\n",
              "      <td>25.410000</td>\n",
              "      <td>97.660000</td>\n",
              "      <td>686.500000</td>\n",
              "      <td>0.131300</td>\n",
              "      <td>0.211900</td>\n",
              "      <td>0.226700</td>\n",
              "      <td>0.099930</td>\n",
              "      <td>0.282200</td>\n",
              "      <td>0.080040</td>\n",
              "      <td>1.000000</td>\n",
              "    </tr>\n",
              "    <tr>\n",
              "      <th>75%</th>\n",
              "      <td>15.780000</td>\n",
              "      <td>21.800000</td>\n",
              "      <td>104.100000</td>\n",
              "      <td>782.700000</td>\n",
              "      <td>0.105300</td>\n",
              "      <td>0.130400</td>\n",
              "      <td>0.130700</td>\n",
              "      <td>0.074000</td>\n",
              "      <td>0.195700</td>\n",
              "      <td>0.066120</td>\n",
              "      <td>0.478900</td>\n",
              "      <td>1.474000</td>\n",
              "      <td>3.357000</td>\n",
              "      <td>45.190000</td>\n",
              "      <td>0.008146</td>\n",
              "      <td>0.032450</td>\n",
              "      <td>0.042050</td>\n",
              "      <td>0.014710</td>\n",
              "      <td>0.023480</td>\n",
              "      <td>0.004558</td>\n",
              "      <td>18.790000</td>\n",
              "      <td>29.720000</td>\n",
              "      <td>125.400000</td>\n",
              "      <td>1084.000000</td>\n",
              "      <td>0.146000</td>\n",
              "      <td>0.339100</td>\n",
              "      <td>0.382900</td>\n",
              "      <td>0.161400</td>\n",
              "      <td>0.317900</td>\n",
              "      <td>0.092080</td>\n",
              "      <td>1.000000</td>\n",
              "    </tr>\n",
              "    <tr>\n",
              "      <th>max</th>\n",
              "      <td>28.110000</td>\n",
              "      <td>39.280000</td>\n",
              "      <td>188.500000</td>\n",
              "      <td>2501.000000</td>\n",
              "      <td>0.163400</td>\n",
              "      <td>0.345400</td>\n",
              "      <td>0.426800</td>\n",
              "      <td>0.201200</td>\n",
              "      <td>0.304000</td>\n",
              "      <td>0.097440</td>\n",
              "      <td>2.873000</td>\n",
              "      <td>4.885000</td>\n",
              "      <td>21.980000</td>\n",
              "      <td>542.200000</td>\n",
              "      <td>0.031130</td>\n",
              "      <td>0.135400</td>\n",
              "      <td>0.396000</td>\n",
              "      <td>0.052790</td>\n",
              "      <td>0.078950</td>\n",
              "      <td>0.029840</td>\n",
              "      <td>36.040000</td>\n",
              "      <td>49.540000</td>\n",
              "      <td>251.200000</td>\n",
              "      <td>4254.000000</td>\n",
              "      <td>0.222600</td>\n",
              "      <td>1.058000</td>\n",
              "      <td>1.252000</td>\n",
              "      <td>0.291000</td>\n",
              "      <td>0.663800</td>\n",
              "      <td>0.207500</td>\n",
              "      <td>1.000000</td>\n",
              "    </tr>\n",
              "  </tbody>\n",
              "</table>\n",
              "</div>"
            ],
            "text/plain": [
              "       mean radius  mean texture  ...  worst fractal dimension       class\n",
              "count   569.000000    569.000000  ...               569.000000  569.000000\n",
              "mean     14.127292     19.289649  ...                 0.083946    0.627417\n",
              "std       3.524049      4.301036  ...                 0.018061    0.483918\n",
              "min       6.981000      9.710000  ...                 0.055040    0.000000\n",
              "25%      11.700000     16.170000  ...                 0.071460    0.000000\n",
              "50%      13.370000     18.840000  ...                 0.080040    1.000000\n",
              "75%      15.780000     21.800000  ...                 0.092080    1.000000\n",
              "max      28.110000     39.280000  ...                 0.207500    1.000000\n",
              "\n",
              "[8 rows x 31 columns]"
            ]
          },
          "metadata": {
            "tags": []
          },
          "execution_count": 12
        }
      ]
    },
    {
      "cell_type": "code",
      "metadata": {
        "id": "2-k3fDtbtoyy",
        "outputId": "6b41881a-edb7-4326-c3a7-5dae7779419c",
        "colab": {
          "base_uri": "https://localhost:8080/",
          "height": 72
        }
      },
      "source": [
        "print(data['class'].value_counts()) #printing the discrete number of class"
      ],
      "execution_count": 13,
      "outputs": [
        {
          "output_type": "stream",
          "text": [
            "1    357\n",
            "0    212\n",
            "Name: class, dtype: int64\n"
          ],
          "name": "stdout"
        }
      ]
    },
    {
      "cell_type": "code",
      "metadata": {
        "id": "u27RowlGuBIC",
        "outputId": "6f15b6a9-290e-4823-8582-85fe68dc4c3c",
        "colab": {
          "base_uri": "https://localhost:8080/",
          "height": 35
        }
      },
      "source": [
        "print(breast_cancer.target_names) #printing the two different classification names"
      ],
      "execution_count": 14,
      "outputs": [
        {
          "output_type": "stream",
          "text": [
            "['malignant' 'benign']\n"
          ],
          "name": "stdout"
        }
      ]
    },
    {
      "cell_type": "code",
      "metadata": {
        "id": "hpVmC4m0urPY",
        "outputId": "9fd7601d-fc17-47bc-94c5-06ad62fcf1bf",
        "colab": {
          "base_uri": "https://localhost:8080/",
          "height": 193
        }
      },
      "source": [
        "data.groupby('class').mean() #grouping the dataset by their mean of class"
      ],
      "execution_count": 15,
      "outputs": [
        {
          "output_type": "execute_result",
          "data": {
            "text/html": [
              "<div>\n",
              "<style scoped>\n",
              "    .dataframe tbody tr th:only-of-type {\n",
              "        vertical-align: middle;\n",
              "    }\n",
              "\n",
              "    .dataframe tbody tr th {\n",
              "        vertical-align: top;\n",
              "    }\n",
              "\n",
              "    .dataframe thead th {\n",
              "        text-align: right;\n",
              "    }\n",
              "</style>\n",
              "<table border=\"1\" class=\"dataframe\">\n",
              "  <thead>\n",
              "    <tr style=\"text-align: right;\">\n",
              "      <th></th>\n",
              "      <th>mean radius</th>\n",
              "      <th>mean texture</th>\n",
              "      <th>mean perimeter</th>\n",
              "      <th>mean area</th>\n",
              "      <th>mean smoothness</th>\n",
              "      <th>mean compactness</th>\n",
              "      <th>mean concavity</th>\n",
              "      <th>mean concave points</th>\n",
              "      <th>mean symmetry</th>\n",
              "      <th>mean fractal dimension</th>\n",
              "      <th>radius error</th>\n",
              "      <th>texture error</th>\n",
              "      <th>perimeter error</th>\n",
              "      <th>area error</th>\n",
              "      <th>smoothness error</th>\n",
              "      <th>compactness error</th>\n",
              "      <th>concavity error</th>\n",
              "      <th>concave points error</th>\n",
              "      <th>symmetry error</th>\n",
              "      <th>fractal dimension error</th>\n",
              "      <th>worst radius</th>\n",
              "      <th>worst texture</th>\n",
              "      <th>worst perimeter</th>\n",
              "      <th>worst area</th>\n",
              "      <th>worst smoothness</th>\n",
              "      <th>worst compactness</th>\n",
              "      <th>worst concavity</th>\n",
              "      <th>worst concave points</th>\n",
              "      <th>worst symmetry</th>\n",
              "      <th>worst fractal dimension</th>\n",
              "    </tr>\n",
              "    <tr>\n",
              "      <th>class</th>\n",
              "      <th></th>\n",
              "      <th></th>\n",
              "      <th></th>\n",
              "      <th></th>\n",
              "      <th></th>\n",
              "      <th></th>\n",
              "      <th></th>\n",
              "      <th></th>\n",
              "      <th></th>\n",
              "      <th></th>\n",
              "      <th></th>\n",
              "      <th></th>\n",
              "      <th></th>\n",
              "      <th></th>\n",
              "      <th></th>\n",
              "      <th></th>\n",
              "      <th></th>\n",
              "      <th></th>\n",
              "      <th></th>\n",
              "      <th></th>\n",
              "      <th></th>\n",
              "      <th></th>\n",
              "      <th></th>\n",
              "      <th></th>\n",
              "      <th></th>\n",
              "      <th></th>\n",
              "      <th></th>\n",
              "      <th></th>\n",
              "      <th></th>\n",
              "      <th></th>\n",
              "    </tr>\n",
              "  </thead>\n",
              "  <tbody>\n",
              "    <tr>\n",
              "      <th>0</th>\n",
              "      <td>17.462830</td>\n",
              "      <td>21.604906</td>\n",
              "      <td>115.365377</td>\n",
              "      <td>978.376415</td>\n",
              "      <td>0.102898</td>\n",
              "      <td>0.145188</td>\n",
              "      <td>0.160775</td>\n",
              "      <td>0.087990</td>\n",
              "      <td>0.192909</td>\n",
              "      <td>0.062680</td>\n",
              "      <td>0.609083</td>\n",
              "      <td>1.210915</td>\n",
              "      <td>4.323929</td>\n",
              "      <td>72.672406</td>\n",
              "      <td>0.006780</td>\n",
              "      <td>0.032281</td>\n",
              "      <td>0.041824</td>\n",
              "      <td>0.015060</td>\n",
              "      <td>0.020472</td>\n",
              "      <td>0.004062</td>\n",
              "      <td>21.134811</td>\n",
              "      <td>29.318208</td>\n",
              "      <td>141.370330</td>\n",
              "      <td>1422.286321</td>\n",
              "      <td>0.144845</td>\n",
              "      <td>0.374824</td>\n",
              "      <td>0.450606</td>\n",
              "      <td>0.182237</td>\n",
              "      <td>0.323468</td>\n",
              "      <td>0.091530</td>\n",
              "    </tr>\n",
              "    <tr>\n",
              "      <th>1</th>\n",
              "      <td>12.146524</td>\n",
              "      <td>17.914762</td>\n",
              "      <td>78.075406</td>\n",
              "      <td>462.790196</td>\n",
              "      <td>0.092478</td>\n",
              "      <td>0.080085</td>\n",
              "      <td>0.046058</td>\n",
              "      <td>0.025717</td>\n",
              "      <td>0.174186</td>\n",
              "      <td>0.062867</td>\n",
              "      <td>0.284082</td>\n",
              "      <td>1.220380</td>\n",
              "      <td>2.000321</td>\n",
              "      <td>21.135148</td>\n",
              "      <td>0.007196</td>\n",
              "      <td>0.021438</td>\n",
              "      <td>0.025997</td>\n",
              "      <td>0.009858</td>\n",
              "      <td>0.020584</td>\n",
              "      <td>0.003636</td>\n",
              "      <td>13.379801</td>\n",
              "      <td>23.515070</td>\n",
              "      <td>87.005938</td>\n",
              "      <td>558.899440</td>\n",
              "      <td>0.124959</td>\n",
              "      <td>0.182673</td>\n",
              "      <td>0.166238</td>\n",
              "      <td>0.074444</td>\n",
              "      <td>0.270246</td>\n",
              "      <td>0.079442</td>\n",
              "    </tr>\n",
              "  </tbody>\n",
              "</table>\n",
              "</div>"
            ],
            "text/plain": [
              "       mean radius  mean texture  ...  worst symmetry  worst fractal dimension\n",
              "class                             ...                                         \n",
              "0        17.462830     21.604906  ...        0.323468                 0.091530\n",
              "1        12.146524     17.914762  ...        0.270246                 0.079442\n",
              "\n",
              "[2 rows x 30 columns]"
            ]
          },
          "metadata": {
            "tags": []
          },
          "execution_count": 15
        }
      ]
    },
    {
      "cell_type": "markdown",
      "metadata": {
        "id": "2lIGopijwNnq"
      },
      "source": [
        ""
      ]
    },
    {
      "cell_type": "markdown",
      "metadata": {
        "id": "o5rgi1k9w58L"
      },
      "source": [
        "# Test and Train data splitup \n"
      ]
    },
    {
      "cell_type": "code",
      "metadata": {
        "id": "Mp_O8jFfvLTW"
      },
      "source": [
        "from sklearn.model_selection import train_test_split"
      ],
      "execution_count": 16,
      "outputs": []
    },
    {
      "cell_type": "code",
      "metadata": {
        "id": "QL5zzmZiAGsN",
        "outputId": "3b0ee91a-0ebf-49b7-c610-be813aac7bf0",
        "colab": {
          "base_uri": "https://localhost:8080/",
          "height": 490
        }
      },
      "source": [
        "X = data.drop('class' , axis = 1)  #dropping the class column from the dataframe\n",
        "Y = data['class']\n",
        "print(X)\n",
        "print(Y)"
      ],
      "execution_count": 17,
      "outputs": [
        {
          "output_type": "stream",
          "text": [
            "     mean radius  mean texture  ...  worst symmetry  worst fractal dimension\n",
            "0          17.99         10.38  ...          0.4601                  0.11890\n",
            "1          20.57         17.77  ...          0.2750                  0.08902\n",
            "2          19.69         21.25  ...          0.3613                  0.08758\n",
            "3          11.42         20.38  ...          0.6638                  0.17300\n",
            "4          20.29         14.34  ...          0.2364                  0.07678\n",
            "..           ...           ...  ...             ...                      ...\n",
            "564        21.56         22.39  ...          0.2060                  0.07115\n",
            "565        20.13         28.25  ...          0.2572                  0.06637\n",
            "566        16.60         28.08  ...          0.2218                  0.07820\n",
            "567        20.60         29.33  ...          0.4087                  0.12400\n",
            "568         7.76         24.54  ...          0.2871                  0.07039\n",
            "\n",
            "[569 rows x 30 columns]\n",
            "0      0\n",
            "1      0\n",
            "2      0\n",
            "3      0\n",
            "4      0\n",
            "      ..\n",
            "564    0\n",
            "565    0\n",
            "566    0\n",
            "567    0\n",
            "568    1\n",
            "Name: class, Length: 569, dtype: int64\n"
          ],
          "name": "stdout"
        }
      ]
    },
    {
      "cell_type": "code",
      "metadata": {
        "id": "c0hsGym3Ajkz"
      },
      "source": [
        "X_train ,X_test ,Y_train ,Y_test = train_test_split(X,Y) #splitting the dataset into train data and test data (test data = 25%)"
      ],
      "execution_count": 18,
      "outputs": []
    },
    {
      "cell_type": "code",
      "metadata": {
        "id": "QYLYd2Y6Bbq4",
        "outputId": "5baf30a0-bfb9-4c65-d07c-de88918504b3",
        "colab": {
          "base_uri": "https://localhost:8080/",
          "height": 35
        }
      },
      "source": [
        "print(X.shape ,X_train.shape ,X_test.shape)"
      ],
      "execution_count": 19,
      "outputs": [
        {
          "output_type": "stream",
          "text": [
            "(569, 30) (426, 30) (143, 30)\n"
          ],
          "name": "stdout"
        }
      ]
    },
    {
      "cell_type": "code",
      "metadata": {
        "id": "9_fwX-t9BsAg"
      },
      "source": [
        "X_train ,X_test ,Y_train ,Y_test = train_test_split(X,Y , test_size = 0.3) #splitting the data with 70% train data and 30% test data"
      ],
      "execution_count": 20,
      "outputs": []
    },
    {
      "cell_type": "code",
      "metadata": {
        "id": "0jnMjBnDCVFQ",
        "outputId": "8fb5115f-fd37-4bcd-f715-bf148b3a2bb2",
        "colab": {
          "base_uri": "https://localhost:8080/",
          "height": 35
        }
      },
      "source": [
        "print(X.shape ,X_train.shape ,X_test.shape)"
      ],
      "execution_count": 21,
      "outputs": [
        {
          "output_type": "stream",
          "text": [
            "(569, 30) (398, 30) (171, 30)\n"
          ],
          "name": "stdout"
        }
      ]
    },
    {
      "cell_type": "code",
      "metadata": {
        "id": "DeTllLvrCZmf",
        "outputId": "28390904-9798-49d1-e9c6-9da1d278048f",
        "colab": {
          "base_uri": "https://localhost:8080/",
          "height": 35
        }
      },
      "source": [
        "print(Y.mean(),Y_train.mean(),Y_test.mean()) #printing the means of train ,test of Y and Y"
      ],
      "execution_count": 22,
      "outputs": [
        {
          "output_type": "stream",
          "text": [
            "0.6274165202108963 0.6231155778894473 0.6374269005847953\n"
          ],
          "name": "stdout"
        }
      ]
    },
    {
      "cell_type": "code",
      "metadata": {
        "id": "YKw13WzTJtki"
      },
      "source": [
        "X_train ,X_test ,Y_train ,Y_test = train_test_split(X,Y , test_size = 0.3 , stratify = Y ) #maintaining a same proportion for all the 4"
      ],
      "execution_count": 23,
      "outputs": []
    },
    {
      "cell_type": "code",
      "metadata": {
        "id": "cALIZ5zIJ-ON",
        "outputId": "89c107fa-02a2-4e59-ef07-d9ff5f54644a",
        "colab": {
          "base_uri": "https://localhost:8080/",
          "height": 35
        }
      },
      "source": [
        "print(Y.mean(),Y_train.mean(),Y_test.mean()) "
      ],
      "execution_count": 24,
      "outputs": [
        {
          "output_type": "stream",
          "text": [
            "0.6274165202108963 0.628140703517588 0.6257309941520468\n"
          ],
          "name": "stdout"
        }
      ]
    },
    {
      "cell_type": "code",
      "metadata": {
        "id": "FrUj3ZJWKEwW",
        "outputId": "ea649230-9d78-4739-bc13-4c83f3cebe7e",
        "colab": {
          "base_uri": "https://localhost:8080/",
          "height": 1000
        }
      },
      "source": [
        "print(X.mean(),X_train.mean(),X_test.mean()) \n"
      ],
      "execution_count": 25,
      "outputs": [
        {
          "output_type": "stream",
          "text": [
            "mean radius                 14.127292\n",
            "mean texture                19.289649\n",
            "mean perimeter              91.969033\n",
            "mean area                  654.889104\n",
            "mean smoothness              0.096360\n",
            "mean compactness             0.104341\n",
            "mean concavity               0.088799\n",
            "mean concave points          0.048919\n",
            "mean symmetry                0.181162\n",
            "mean fractal dimension       0.062798\n",
            "radius error                 0.405172\n",
            "texture error                1.216853\n",
            "perimeter error              2.866059\n",
            "area error                  40.337079\n",
            "smoothness error             0.007041\n",
            "compactness error            0.025478\n",
            "concavity error              0.031894\n",
            "concave points error         0.011796\n",
            "symmetry error               0.020542\n",
            "fractal dimension error      0.003795\n",
            "worst radius                16.269190\n",
            "worst texture               25.677223\n",
            "worst perimeter            107.261213\n",
            "worst area                 880.583128\n",
            "worst smoothness             0.132369\n",
            "worst compactness            0.254265\n",
            "worst concavity              0.272188\n",
            "worst concave points         0.114606\n",
            "worst symmetry               0.290076\n",
            "worst fractal dimension      0.083946\n",
            "dtype: float64 mean radius                 14.044671\n",
            "mean texture                19.228869\n",
            "mean perimeter              91.399296\n",
            "mean area                  645.882161\n",
            "mean smoothness              0.095876\n",
            "mean compactness             0.103250\n",
            "mean concavity               0.087606\n",
            "mean concave points          0.047856\n",
            "mean symmetry                0.180090\n",
            "mean fractal dimension       0.062811\n",
            "radius error                 0.398541\n",
            "texture error                1.221296\n",
            "perimeter error              2.828673\n",
            "area error                  39.095276\n",
            "smoothness error             0.007063\n",
            "compactness error            0.025389\n",
            "concavity error              0.032021\n",
            "concave points error         0.011763\n",
            "symmetry error               0.020394\n",
            "fractal dimension error      0.003783\n",
            "worst radius                16.184741\n",
            "worst texture               25.634271\n",
            "worst perimeter            106.735151\n",
            "worst area                 869.147990\n",
            "worst smoothness             0.131866\n",
            "worst compactness            0.252801\n",
            "worst concavity              0.272619\n",
            "worst concave points         0.113284\n",
            "worst symmetry               0.288812\n",
            "worst fractal dimension      0.084051\n",
            "dtype: float64 mean radius                 14.319591\n",
            "mean texture                19.431111\n",
            "mean perimeter              93.295088\n",
            "mean area                  675.852632\n",
            "mean smoothness              0.097488\n",
            "mean compactness             0.106880\n",
            "mean concavity               0.091576\n",
            "mean concave points          0.051393\n",
            "mean symmetry                0.183657\n",
            "mean fractal dimension       0.062767\n",
            "radius error                 0.420606\n",
            "texture error                1.206513\n",
            "perimeter error              2.953075\n",
            "area error                  43.227357\n",
            "smoothness error             0.006989\n",
            "compactness error            0.025685\n",
            "concavity error              0.031598\n",
            "concave points error         0.011874\n",
            "symmetry error               0.020887\n",
            "fractal dimension error      0.003823\n",
            "worst radius                16.465743\n",
            "worst texture               25.777193\n",
            "worst perimeter            108.485614\n",
            "worst area                 907.198246\n",
            "worst smoothness             0.133538\n",
            "worst compactness            0.257673\n",
            "worst concavity              0.271187\n",
            "worst concave points         0.117683\n",
            "worst symmetry               0.293016\n",
            "worst fractal dimension      0.083700\n",
            "dtype: float64\n"
          ],
          "name": "stdout"
        }
      ]
    },
    {
      "cell_type": "code",
      "metadata": {
        "id": "_Jnw7Hi1aeOm",
        "outputId": "255db7a6-37df-4069-a9bd-b9024883d428",
        "colab": {
          "base_uri": "https://localhost:8080/",
          "height": 35
        }
      },
      "source": [
        "type(Y_train)"
      ],
      "execution_count": 26,
      "outputs": [
        {
          "output_type": "execute_result",
          "data": {
            "text/plain": [
              "pandas.core.series.Series"
            ]
          },
          "metadata": {
            "tags": []
          },
          "execution_count": 26
        }
      ]
    },
    {
      "cell_type": "code",
      "metadata": {
        "id": "Yl30vGz9LVd4"
      },
      "source": [
        "X_train ,X_test ,Y_train ,Y_test = train_test_split(X,Y , test_size = 0.3 , stratify = Y , random_state = 1) #including a parameter random_state to have a constant result irresprctive of many iterations"
      ],
      "execution_count": 27,
      "outputs": []
    },
    {
      "cell_type": "code",
      "metadata": {
        "id": "yHpTvXGjLdoh",
        "outputId": "428ce4d4-a0cf-44be-f21b-21d46d599fee",
        "colab": {
          "base_uri": "https://localhost:8080/",
          "height": 1000
        }
      },
      "source": [
        "print(X.mean(),X_train.mean(),X_test.mean()) "
      ],
      "execution_count": 28,
      "outputs": [
        {
          "output_type": "stream",
          "text": [
            "mean radius                 14.127292\n",
            "mean texture                19.289649\n",
            "mean perimeter              91.969033\n",
            "mean area                  654.889104\n",
            "mean smoothness              0.096360\n",
            "mean compactness             0.104341\n",
            "mean concavity               0.088799\n",
            "mean concave points          0.048919\n",
            "mean symmetry                0.181162\n",
            "mean fractal dimension       0.062798\n",
            "radius error                 0.405172\n",
            "texture error                1.216853\n",
            "perimeter error              2.866059\n",
            "area error                  40.337079\n",
            "smoothness error             0.007041\n",
            "compactness error            0.025478\n",
            "concavity error              0.031894\n",
            "concave points error         0.011796\n",
            "symmetry error               0.020542\n",
            "fractal dimension error      0.003795\n",
            "worst radius                16.269190\n",
            "worst texture               25.677223\n",
            "worst perimeter            107.261213\n",
            "worst area                 880.583128\n",
            "worst smoothness             0.132369\n",
            "worst compactness            0.254265\n",
            "worst concavity              0.272188\n",
            "worst concave points         0.114606\n",
            "worst symmetry               0.290076\n",
            "worst fractal dimension      0.083946\n",
            "dtype: float64 mean radius                 14.064967\n",
            "mean texture                19.371985\n",
            "mean perimeter              91.603166\n",
            "mean area                  649.571106\n",
            "mean smoothness              0.096888\n",
            "mean compactness             0.105293\n",
            "mean concavity               0.090371\n",
            "mean concave points          0.049280\n",
            "mean symmetry                0.182075\n",
            "mean fractal dimension       0.063054\n",
            "radius error                 0.403160\n",
            "texture error                1.207992\n",
            "perimeter error              2.860047\n",
            "area error                  40.417573\n",
            "smoothness error             0.006914\n",
            "compactness error            0.025246\n",
            "concavity error              0.032246\n",
            "concave points error         0.011820\n",
            "symmetry error               0.020372\n",
            "fractal dimension error      0.003801\n",
            "worst radius                16.234103\n",
            "worst texture               25.845754\n",
            "worst perimeter            107.103945\n",
            "worst area                 878.801005\n",
            "worst smoothness             0.132892\n",
            "worst compactness            0.258718\n",
            "worst concavity              0.280200\n",
            "worst concave points         0.116408\n",
            "worst symmetry               0.292497\n",
            "worst fractal dimension      0.084743\n",
            "dtype: float64 mean radius                 14.272351\n",
            "mean texture                19.098012\n",
            "mean perimeter              92.820585\n",
            "mean area                  667.266667\n",
            "mean smoothness              0.095131\n",
            "mean compactness             0.102124\n",
            "mean concavity               0.085141\n",
            "mean concave points          0.048079\n",
            "mean symmetry                0.179036\n",
            "mean fractal dimension       0.062201\n",
            "radius error                 0.409856\n",
            "texture error                1.237479\n",
            "perimeter error              2.880051\n",
            "area error                  40.149731\n",
            "smoothness error             0.007337\n",
            "compactness error            0.026018\n",
            "concavity error              0.031073\n",
            "concave points error         0.011741\n",
            "symmetry error               0.020940\n",
            "fractal dimension error      0.003781\n",
            "worst radius                16.350854\n",
            "worst texture               25.284971\n",
            "worst perimeter            107.627251\n",
            "worst area                 884.730994\n",
            "worst smoothness             0.131151\n",
            "worst compactness            0.243900\n",
            "worst concavity              0.253541\n",
            "worst concave points         0.110414\n",
            "worst symmetry               0.284439\n",
            "worst fractal dimension      0.082089\n",
            "dtype: float64\n"
          ],
          "name": "stdout"
        }
      ]
    },
    {
      "cell_type": "markdown",
      "metadata": {
        "id": "5fSsjaWpMTQd"
      },
      "source": [
        "# Binarisation of Input"
      ]
    },
    {
      "cell_type": "code",
      "metadata": {
        "id": "Hg29f01WMq6n"
      },
      "source": [
        "import matplotlib.pyplot as plt"
      ],
      "execution_count": 29,
      "outputs": []
    },
    {
      "cell_type": "code",
      "metadata": {
        "id": "miuaeHrJNwMq",
        "outputId": "bf8bcb5e-e7f8-495c-8644-a8ad4d48acbb",
        "colab": {
          "base_uri": "https://localhost:8080/",
          "height": 374
        }
      },
      "source": [
        "plt.plot(X_train.T , '*')           #plotting the distribution of training data\n",
        "plt.xticks(rotation = 'vertical')\n",
        "plt.show()\n"
      ],
      "execution_count": 30,
      "outputs": [
        {
          "output_type": "display_data",
          "data": {
            "image/png": "[encoded data removed]",
            "text/plain": [
              "<Figure size 432x288 with 1 Axes>"
            ]
          },
          "metadata": {
            "tags": [],
            "needs_background": "light"
          }
        }
      ]
    },
    {
      "cell_type": "code",
      "metadata": {
        "id": "ljVCq1X0OFfk",
        "outputId": "3b068872-6a89-493b-8a40-13c0a949a47d",
        "colab": {
          "base_uri": "https://localhost:8080/",
          "height": 283
        }
      },
      "source": [
        "X_binarised_3_train = X_train['mean area']. map(lambda x : 0 if x<1000 else 1) # Binarising the  mean area(3rd column) \n",
        "plt.plot(X_binarised_3_train , '*')"
      ],
      "execution_count": 31,
      "outputs": [
        {
          "output_type": "execute_result",
          "data": {
            "text/plain": [
              "[<matplotlib.lines.Line2D at 0x7f75482defd0>]"
            ]
          },
          "metadata": {
            "tags": []
          },
          "execution_count": 31
        },
        {
          "output_type": "display_data",
          "data": {
            "image/png": "[encoded data removed]",
            "text/plain": [
              "<Figure size 432x288 with 1 Axes>"
            ]
          },
          "metadata": {
            "tags": [],
            "needs_background": "light"
          }
        }
      ]
    },
    {
      "cell_type": "code",
      "metadata": {
        "id": "c-xAuLQXQFl5"
      },
      "source": [
        "X_binarised_train = X_train.apply(pd.cut, bins = 2 ,labels=[1,0]) #binarising the test data and train data through pandas\n",
        "X_binarised_test = X_test.apply(pd.cut, bins = 2 ,labels=[1,0])"
      ],
      "execution_count": 32,
      "outputs": []
    },
    {
      "cell_type": "code",
      "metadata": {
        "id": "ea_EgqzYR1WF",
        "outputId": "7027fdca-6086-447b-8aa7-75a94f46685e",
        "colab": {
          "base_uri": "https://localhost:8080/",
          "height": 265
        }
      },
      "source": [
        "plt.plot(X_binarised_train , '*')\n",
        "plt.show()"
      ],
      "execution_count": 33,
      "outputs": [
        {
          "output_type": "display_data",
          "data": {
            "image/png": "[encoded data removed]",
            "text/plain": [
              "<Figure size 432x288 with 1 Axes>"
            ]
          },
          "metadata": {
            "tags": [],
            "needs_background": "light"
          }
        }
      ]
    },
    {
      "cell_type": "code",
      "metadata": {
        "id": "GSozvHEASg7q"
      },
      "source": [
        "X_binarised_train = X_binarised_train.values #converting the train and test dataframes into numpy arrays\n",
        "X_binarised_test  = X_binarised_test.values"
      ],
      "execution_count": 34,
      "outputs": []
    },
    {
      "cell_type": "code",
      "metadata": {
        "id": "SSiy4cmNS8SX",
        "outputId": "b4a33f27-9564-448e-dee1-161030aed18c",
        "colab": {
          "base_uri": "https://localhost:8080/",
          "height": 35
        }
      },
      "source": [
        "type(X_binarised_train)"
      ],
      "execution_count": 35,
      "outputs": [
        {
          "output_type": "execute_result",
          "data": {
            "text/plain": [
              "numpy.ndarray"
            ]
          },
          "metadata": {
            "tags": []
          },
          "execution_count": 35
        }
      ]
    },
    {
      "cell_type": "markdown",
      "metadata": {
        "id": "FLaOJhaQkisL"
      },
      "source": [
        "# **Neuron Model**"
      ]
    },
    {
      "cell_type": "code",
      "metadata": {
        "id": "bWbbao1wksXm"
      },
      "source": [
        "from random import randint"
      ],
      "execution_count": 36,
      "outputs": []
    },
    {
      "cell_type": "code",
      "metadata": {
        "id": "6E6n1JdIP1zN",
        "outputId": "fa1c68cf-888a-4df2-df9b-7737fd919661",
        "colab": {
          "base_uri": "https://localhost:8080/",
          "height": 54
        }
      },
      "source": [
        "b = 3                                       #randomly initialising the parameter value\n",
        "i = randint(0 , X_binarised_train.shape[0]) #randomly generating a value from 0 to the no. of rows of X_binarised_train data\n",
        "\n",
        "#our model prediction\n",
        "\n",
        "if (np.sum(X_binarised_train[100 , :])>=b):   \n",
        "  print(\"Predicted as Malignant type\")\n",
        "else:\n",
        "  print(\"Predicted as Benign type\")\n",
        "\n",
        "#Actual output\n",
        "\n",
        "if(Y_train[i]==1):\n",
        "  print(\"Actually its Malignant type\")\n",
        "else:\n",
        "  print(\"Actually its Benign type\")\n",
        "\n"
      ],
      "execution_count": 37,
      "outputs": [
        {
          "output_type": "stream",
          "text": [
            "Predicted as Malignant type\n",
            "Actually its Benign type\n"
          ],
          "name": "stdout"
        }
      ]
    },
    {
      "cell_type": "code",
      "metadata": {
        "id": "9_WEREulRCcE",
        "outputId": "d351405c-06d4-498b-9ef3-6f2c0f1185a3",
        "colab": {
          "base_uri": "https://localhost:8080/",
          "height": 581
        }
      },
      "source": [
        "for b in range (X_binarised_train.shape[1]+1):   #to find the parameter b for the MP neuron model\n",
        "  Y_pred_train = []\n",
        "  accurate_rows = 0\n",
        "\n",
        "  for x,y in zip(X_binarised_train,Y_train):\n",
        "    Y_pred = (np.sum(x) >=b )\n",
        "    Y_pred_train.append(Y_pred)\n",
        "    accurate_rows += (y==Y_pred)\n",
        "\n",
        "  print ( b , accurate_rows/X_binarised_train.shape[0])"
      ],
      "execution_count": 38,
      "outputs": [
        {
          "output_type": "stream",
          "text": [
            "0 0.628140703517588\n",
            "1 0.628140703517588\n",
            "2 0.628140703517588\n",
            "3 0.628140703517588\n",
            "4 0.628140703517588\n",
            "5 0.628140703517588\n",
            "6 0.628140703517588\n",
            "7 0.628140703517588\n",
            "8 0.628140703517588\n",
            "9 0.628140703517588\n",
            "10 0.628140703517588\n",
            "11 0.628140703517588\n",
            "12 0.628140703517588\n",
            "13 0.6306532663316583\n",
            "14 0.6407035175879398\n",
            "15 0.6457286432160804\n",
            "16 0.6532663316582915\n",
            "17 0.6608040201005025\n",
            "18 0.6683417085427136\n",
            "19 0.6758793969849246\n",
            "20 0.6809045226130653\n",
            "21 0.7010050251256281\n",
            "22 0.7236180904522613\n",
            "23 0.7462311557788944\n",
            "24 0.7839195979899497\n",
            "25 0.8090452261306532\n",
            "26 0.8241206030150754\n",
            "27 0.8517587939698492\n",
            "28 0.8467336683417085\n",
            "29 0.7989949748743719\n",
            "30 0.7336683417085427\n"
          ],
          "name": "stdout"
        }
      ]
    },
    {
      "cell_type": "code",
      "metadata": {
        "id": "JRWf8z7XZ1_p"
      },
      "source": [
        "from sklearn.metrics import accuracy_score"
      ],
      "execution_count": 39,
      "outputs": []
    },
    {
      "cell_type": "code",
      "metadata": {
        "id": "1xKPkmP2WvSx",
        "outputId": "0e01758a-b026-4c57-ea3d-e4a9a540bf47",
        "colab": {
          "base_uri": "https://localhost:8080/",
          "height": 35
        }
      },
      "source": [
        "#Being computed the value of b ,plugging it into the test data and finding the accuracy\n",
        "\n",
        "b = 27\n",
        "Y_pred_test =[]\n",
        "\n",
        "for x in X_binarised_test:\n",
        "  Y_pred = (np.sum(x)>=b)\n",
        "  Y_pred_test.append(Y_pred)\n",
        "  \n",
        "accuracy = accuracy_score(Y_pred_test, Y_test)\n",
        "print(accuracy)\n"
      ],
      "execution_count": 40,
      "outputs": [
        {
          "output_type": "stream",
          "text": [
            "0.8947368421052632\n"
          ],
          "name": "stdout"
        }
      ]
    },
    {
      "cell_type": "markdown",
      "metadata": {
        "id": "AOkF7-A7dUoA"
      },
      "source": [
        "# Object oriented approach"
      ]
    },
    {
      "cell_type": "code",
      "metadata": {
        "id": "uvOcJhgWay5a"
      },
      "source": [
        "class MP_neuron:\n",
        "\n",
        "  def __init__(self):\n",
        "    self.b = None\n",
        "\n",
        "  def  model(self, x ):\n",
        "    return (sum(x) >= self.b)\n",
        "\n",
        "  def predict(self,X):\n",
        "    Y =[]\n",
        "    for x in X:\n",
        "      result = self.model(x)\n",
        "      Y.append(result)\n",
        "    return np.array(Y)\n",
        "\n",
        "  def fit(self,X,Y):\n",
        "    accuracy = {}\n",
        "    for b in range(X.shape[1]+1):\n",
        "      self.b = b\n",
        "      Y_pred = self.predict(X)\n",
        "      accuracy[b] = accuracy_score(Y_pred , Y)\n",
        "    best_b = max(accuracy , key = accuracy.get)\n",
        "    self.b = best_b\n",
        "\n",
        "    print(\"optimal value of b is \", best_b)\n",
        "    print(\"accuracy is\", accuracy[best_b])\n",
        "    \n",
        "\n"
      ],
      "execution_count": 41,
      "outputs": []
    },
    {
      "cell_type": "code",
      "metadata": {
        "id": "AvC_DwzutnGB",
        "outputId": "a1ac21a8-4c20-44ae-e534-b00d4139b538",
        "colab": {
          "base_uri": "https://localhost:8080/",
          "height": 54
        }
      },
      "source": [
        "mp_neuron = MP_neuron()              #instantiation\n",
        "mp_neuron.fit(X_binarised_train , Y_train) #fitting the model using the data"
      ],
      "execution_count": 42,
      "outputs": [
        {
          "output_type": "stream",
          "text": [
            "optimal value of b is  27\n",
            "accuracy is 0.8517587939698492\n"
          ],
          "name": "stdout"
        }
      ]
    },
    {
      "cell_type": "code",
      "metadata": {
        "id": "H-eRVNlZuCss",
        "outputId": "0196334b-e5f5-473e-d766-2e8f023b0cd8",
        "colab": {
          "base_uri": "https://localhost:8080/",
          "height": 35
        }
      },
      "source": [
        "Y_pred_test = mp_neuron.predict(X_binarised_test)        #prediction using test test\n",
        "accuracy_test = accuracy_score(Y_pred_test , Y_test)\n",
        "print(accuracy_test)\n"
      ],
      "execution_count": 43,
      "outputs": [
        {
          "output_type": "stream",
          "text": [
            "0.8947368421052632\n"
          ],
          "name": "stdout"
        }
      ]
    },
    {
      "cell_type": "markdown",
      "metadata": {
        "id": "aCqUjTkLpQh2"
      },
      "source": [
        "#Perceptron model"
      ]
    },
    {
      "cell_type": "markdown",
      "metadata": {
        "id": "1P3SbICs71Xw"
      },
      "source": [
        "y=1,if **∑**iwixi>=b \n",
        "\n",
        "y=0, otherwise"
      ]
    },
    {
      "cell_type": "code",
      "metadata": {
        "id": "rG0tKLsUxQ9b"
      },
      "source": [
        "class Perceptron:\n",
        "  \n",
        "  def __init__ (self):\n",
        "    self.w = None\n",
        "    self.b = None\n",
        "    \n",
        "  def model(self, x):                                                      \n",
        "    return 1 if (np.dot(x , self.w)) >= self.b else 0\n",
        "    \n",
        "  def predict(self, X):\n",
        "    Y = []\n",
        "    for x in X:\n",
        "      result = self.model(x)\n",
        "      Y.append(result)\n",
        "    return np.array(Y)\n",
        "    \n",
        "  def fit(self, X, Y, epochs = 1, lr = 1):\n",
        "    \n",
        "    self.w = np.ones(X.shape[1])\n",
        "    self.b = 0\n",
        "    \n",
        "    accuracy = {}\n",
        "    max_accuracy = 0\n",
        "    \n",
        "    wt_matrix = []\n",
        "     \n",
        "     #learning algorithm for perceptron\n",
        "    for i in range(epochs):\n",
        "      for x, y in zip(X, Y):\n",
        "        y_pred = self.model(x)\n",
        "        if y == 1 and y_pred == 0:\n",
        "          self.w = self.w + lr * x\n",
        "          self.b = self.b - lr * 1\n",
        "        elif y == 0 and y_pred == 1:\n",
        "          self.w = self.w - lr * x\n",
        "          self.b = self.b + lr * 1\n",
        "          \n",
        "      wt_matrix.append(self.w)    \n",
        "          \n",
        "      accuracy[i] = accuracy_score(self.predict(X), Y)\n",
        "      if (accuracy[i] > max_accuracy):\n",
        "        max_accuracy = accuracy[i]\n",
        "        chkptw = self.w\n",
        "        chkptb = self.b\n",
        "        \n",
        "    self.w = chkptw\n",
        "    self.b = chkptb\n",
        "        \n",
        "    print(max_accuracy)\n",
        "    \n",
        "    plt.plot(np.array(list(accuracy.values())).astype(float))\n",
        "    plt.ylim([0, 1])\n",
        "    plt.show()\n",
        "    \n",
        "    return np.array(wt_matrix)"
      ],
      "execution_count": 44,
      "outputs": []
    },
    {
      "cell_type": "code",
      "metadata": {
        "id": "28cDgER3L_rx"
      },
      "source": [
        "perceptron = Perceptron()\n"
      ],
      "execution_count": 45,
      "outputs": []
    },
    {
      "cell_type": "code",
      "metadata": {
        "id": "piybX_y4xeww"
      },
      "source": [
        "X_train = X_train.values\n",
        "Y_train = Y_train.values"
      ],
      "execution_count": 50,
      "outputs": []
    },
    {
      "cell_type": "code",
      "metadata": {
        "id": "JSGMKubP0UW1",
        "outputId": "6d2a514d-a3b1-47e0-a95f-302671f4b91a",
        "colab": {
          "base_uri": "https://localhost:8080/",
          "height": 35
        }
      },
      "source": [
        "#type(Y_train)"
      ],
      "execution_count": 52,
      "outputs": [
        {
          "output_type": "execute_result",
          "data": {
            "text/plain": [
              "numpy.ndarray"
            ]
          },
          "metadata": {
            "tags": []
          },
          "execution_count": 52
        }
      ]
    },
    {
      "cell_type": "code",
      "metadata": {
        "id": "DQpb0TAWMDE9",
        "outputId": "bce77926-c1e2-455c-806f-261f539e0bec",
        "colab": {
          "base_uri": "https://localhost:8080/",
          "height": 287
        }
      },
      "source": [
        "wt_matrix = perceptron.fit(X_train, Y_train, 10000, 0.5)"
      ],
      "execution_count": 53,
      "outputs": [
        {
          "output_type": "stream",
          "text": [
            "0.9422110552763819\n"
          ],
          "name": "stdout"
        },
        {
          "output_type": "display_data",
          "data": {
            "image/png": "[encoded data removed]",
            "text/plain": [
              "<Figure size 432x288 with 1 Axes>"
            ]
          },
          "metadata": {
            "tags": [],
            "needs_background": "light"
          }
        }
      ]
    },
    {
      "cell_type": "code",
      "metadata": {
        "id": "5nVIPx2E0w2I"
      },
      "source": [
        "X_test= X_test.values\n",
        "Y_test = Y_test.values"
      ],
      "execution_count": 55,
      "outputs": []
    },
    {
      "cell_type": "code",
      "metadata": {
        "id": "K62PZMfW07F5",
        "outputId": "da65e55b-5722-4a5d-bbac-e4cf19b0957f",
        "colab": {
          "base_uri": "https://localhost:8080/",
          "height": 35
        }
      },
      "source": [
        "#type(X_test)"
      ],
      "execution_count": 56,
      "outputs": [
        {
          "output_type": "execute_result",
          "data": {
            "text/plain": [
              "numpy.ndarray"
            ]
          },
          "metadata": {
            "tags": []
          },
          "execution_count": 56
        }
      ]
    },
    {
      "cell_type": "code",
      "metadata": {
        "id": "mjqODmckMGPQ",
        "outputId": "65ebfcc0-4455-4284-d859-b932c3eb85bb",
        "colab": {
          "base_uri": "https://localhost:8080/",
          "height": 35
        }
      },
      "source": [
        "Y_pred_test = perceptron.predict(X_test)\n",
        "print(accuracy_score(Y_pred_test, Y_test))"
      ],
      "execution_count": 57,
      "outputs": [
        {
          "output_type": "stream",
          "text": [
            "0.9415204678362573\n"
          ],
          "name": "stdout"
        }
      ]
    },
    {
      "cell_type": "code",
      "metadata": {
        "id": "RsSemvTU9wJZ",
        "outputId": "d5d8c1d0-d0fa-4b99-8225-22e4a409a1b3",
        "colab": {
          "base_uri": "https://localhost:8080/",
          "height": 265
        }
      },
      "source": [
        "plt.plot(wt_matrix[-1,:])\n",
        "plt.show()"
      ],
      "execution_count": 58,
      "outputs": [
        {
          "output_type": "display_data",
          "data": {
            "image/png": "[encoded data removed]",
            "text/plain": [
              "<Figure size 432x288 with 1 Axes>"
            ]
          },
          "metadata": {
            "tags": [],
            "needs_background": "light"
          }
        }
      ]
    },
    {
      "cell_type": "code",
      "metadata": {
        "id": "ZOYaEFp4-ipF"
      },
      "source": [
        "%matplotlib inline\n",
        "from matplotlib import animation, rc\n",
        "from IPython.display import HTML"
      ],
      "execution_count": 59,
      "outputs": []
    },
    {
      "cell_type": "code",
      "metadata": {
        "id": "proD86iH-v0w",
        "outputId": "c47f0a93-75bc-4232-8c4c-e8c216b5f4ad",
        "colab": {
          "base_uri": "https://localhost:8080/",
          "height": 269
        }
      },
      "source": [
        "fig, ax = plt.subplots()\n",
        "\n",
        "ax.set_xlim(( 0, wt_matrix.shape[1]))\n",
        "ax.set_ylim((-15000, 25000))\n",
        "\n",
        "line, = ax.plot([], [], lw=2)"
      ],
      "execution_count": 60,
      "outputs": [
        {
          "output_type": "display_data",
          "data": {
            "image/png": "[encoded data removed]",
            "text/plain": [
              "<Figure size 432x288 with 1 Axes>"
            ]
          },
          "metadata": {
            "tags": [],
            "needs_background": "light"
          }
        }
      ]
    },
    {
      "cell_type": "code",
      "metadata": {
        "id": "3IQsdzx6-08O"
      },
      "source": [
        "def animate(i):\n",
        "    x = list(range(wt_matrix.shape[1]))\n",
        "    y = wt_matrix[i, :]\n",
        "    line.set_data(x, y)\n",
        "    return (line,)"
      ],
      "execution_count": 61,
      "outputs": []
    },
    {
      "cell_type": "code",
      "metadata": {
        "id": "Y0GSt56_-7Fy"
      },
      "source": [
        "# call the animator. blit=True means only re-draw the parts that have changed.\n",
        "anim = animation.FuncAnimation(fig, animate, frames=100, interval=200, blit=True)"
      ],
      "execution_count": 62,
      "outputs": []
    },
    {
      "cell_type": "code",
      "metadata": {
        "id": "9vNPToBk_ANz",
        "outputId": "c3a20e72-1c41-46f3-d206-9e09139756b8",
        "colab": {
          "base_uri": "https://localhost:8080/",
          "height": 308
        }
      },
      "source": [
        "HTML(anim.to_html5_video())"
      ],
      "execution_count": 63,
      "outputs": [
        {
          "output_type": "execute_result",
          "data": {
            "text/html": [
              "<video width=\"432\" height=\"288\" controls autoplay loop>\n",
              "  <source type=\"video/mp4\" src=\"data:video/mp4;base64,AAAAHGZ0eXBNNFYgAAACAGlzb21pc28yYXZjMQAAAAhmcmVlAABf/W1kYXQAAAKtBgX//6ncRem9\n",
              "5tlIt5Ys2CDZI+7veDI2NCAtIGNvcmUgMTUyIHIyODU0IGU5YTU5MDMgLSBILjI2NC9NUEVHLTQg\n",
              "QVZDIGNvZGVjIC0gQ29weWxlZnQgMjAwMy0yMDE3IC0gaHR0cDovL3d3dy52aWRlb2xhbi5vcmcv\n",
              "eDI2NC5odG1sIC0gb3B0aW9uczogY2FiYWM9MSByZWY9MyBkZWJsb2NrPTE6MDowIGFuYWx5c2U9\n",
              "MHgzOjB4MTEzIG1lPWhleCBzdWJtZT03IHBzeT0xIHBzeV9yZD0xLjAwOjAuMDAgbWl4ZWRfcmVm\n",
              "PTEgbWVfcmFuZ2U9MTYgY2hyb21hX21lPTEgdHJlbGxpcz0xIDh4OGRjdD0xIGNxbT0wIGRlYWR6\n",
              "b25lPTIxLDExIGZhc3RfcHNraXA9MSBjaHJvbWFfcXBfb2Zmc2V0PS0yIHRocmVhZHM9MyBsb29r\n",
              "YWhlYWRfdGhyZWFkcz0xIHNsaWNlZF90aHJlYWRzPTAgbnI9MCBkZWNpbWF0ZT0xIGludGVybGFj\n",
              "ZWQ9MCBibHVyYXlfY29tcGF0PTAgY29uc3RyYWluZWRfaW50cmE9MCBiZnJhbWVzPTMgYl9weXJh\n",
              "bWlkPTIgYl9hZGFwdD0xIGJfYmlhcz0wIGRpcmVjdD0xIHdlaWdodGI9MSBvcGVuX2dvcD0wIHdl\n",
              "aWdodHA9MiBrZXlpbnQ9MjUwIGtleWludF9taW49NSBzY2VuZWN1dD00MCBpbnRyYV9yZWZyZXNo\n",
              "PTAgcmNfbG9va2FoZWFkPTQwIHJjPWNyZiBtYnRyZWU9MSBjcmY9MjMuMCBxY29tcD0wLjYwIHFw\n",
              "bWluPTAgcXBtYXg9NjkgcXBzdGVwPTQgaXBfcmF0aW89MS40MCBhcT0xOjEuMDAAgAAAEVhliIQA\n",
              "E//+97GPgU3IAA2XOop6H+EVsfSQUXqx2aBk6gAAAwAAinQ/h1kj9QEDRC0FUpyCOWY0wyFPqqAB\n",
              "4A2rIdeoNAQ/SoZvXjplz5WgunT4Ihtpvim3vBhm60y3IGzVaehH+ynEqGggjqkYLb1HW1EMT+MF\n",
              "Bs9SQcYcb1YkpYn9mxjoiFmBpfKg74RmrojqgkHv8XHo6buAJegeibbCAAADAwGkvngP/Sk54Fxo\n",
              "BJHrSjkvXOhRXv5/PKf8BRMbnZ+5aMyisTDyYJUvOOohZOKyCByI8Y5YviIU3dWo9wTzz6LOznCA\n",
              "CyJ9+M2P1gQmBc4xj3hUtXnkb/TYVUYpeWUoexkOBcaa+67hD+gverENLnhCFN8E+757/UPv6Q0+\n",
              "gz1BKRIS0/TGndSRfiQDyGE3WSijDvPUabwV59HWxUdTgdXUxdDY0cWyecFruSzKFcSrY/iBUldt\n",
              "PstvEVJjCdYbcob5lm2FuFVE8fgSVi10AyjeVmly1t7HPuYgTatRVK0ag14ABLIj+ZWxP48SPQ4m\n",
              "5DmTM8F6rI0WOxSJJzxDml7ZSh/m7f+JaWd8Vq2HKZqwBgAPHVVp/do5QycORLMPGNnLviRXp+sn\n",
              "ubOteqNqs0u9jPjvs2z9EGhHg1o64vEy6nipCfTtgEX2UN35OWvdx1zlNijGGgUcaY6U4wnamteq\n",
              "iDBKp4hhxBj7qT/HNf8GIBn8QSsebp2vb0ZNJ9hfNR/jc8m9XHa9g15vxqirfxIyBrxn7PrYposQ\n",
              "K/MLzsfVSgcGRf1a0pP0M9QwBvdB/Xvv9gABuqfo42KTfIrTjwB8qGFIGkHq+RTpequZ6kvnmpWo\n",
              "OONPlVTrLa3ya0i1bYIJsFqLDa9zLBkrn1x39oAFkCyRnos2BiBWj+A0eE3oeWAAHqvd7agkPzRn\n",
              "XpMGlZIKNwW5Td4A4eSH5wDP4K/Jo9z3KYubc1M0ke7bj/tMNkhcygoOOUFn3crFLFCbeaRBaP6h\n",
              "s6h6xuMOzZdlVNF+2bWx3z9AGcR4DcyQHHTVh5YH/ufAxt04Bsim11vpefQnP/Z86UBC5eBFdABi\n",
              "xjwjrm6Elb7RYMYkhkFMqaRGOrIllkS+j3uEMl0tmp7uBLQ+eVyPUt39L4aQYfQwiGeus56wl9dR\n",
              "fk39h8H+AKvpxXJQTo9gJRiQ4RuISb/OA88l/agi3mpuNRYIOA5FzFT649criAdK6Lt4bDE/z49/\n",
              "e1PQPQX7rOWxQ9xcbzRG0bER8/fygtJlWoZqwrq80N4UOLBYCS1rdJXWzAwvxM+ILJ5cTeDbeTGb\n",
              "dBwvnU2LL2zV7Swwn3v5fU+HYFHXeSb8NYePkBDxYn0Ut6Lbb2+qHrnm31i95wkhvqI5GPLlOC/e\n",
              "ethtZlLGbg+behOxiuMVtSfF2nNXzRZjgtw8gh8LmOmI7Z4mFQgQZJ124Gqqk3rsJgQW3+nhLqRE\n",
              "3w4l/KHI7VoAGjaBtQHkLNVHwwtoo0mZ97JM7DCl9XSUzkh2VGNqjnMvrjpPjQB8bWDCwBpjhN97\n",
              "tG2EmITopbKOA/N8tjQXMfiThU29HdKfBfnLrwxms2jxJl9bFsOPfZrG9hLVLBaMniLu0DGhb9SZ\n",
              "QYQ/hLlMkAAAAwCAKlMFU0sc21SrwDUf5tIJCRpVwdqPexkIjNY57AZcC3NSCCJ92P8dYRHj+/0x\n",
              "FjDql9BU88+hifelLc7U582G7LISI+XMi50I1dhE6yg9AADGh7L1QcYEbrAQG8ZW3G4JZ4nYnWxU\n",
              "M7SkE7U1eF5h9ABchlhzvWs98V3Ur6eDRWoRhYTyGrk6TVf5n1/2wKs7eEtEOzsnNRH9zikEvKO6\n",
              "KNJrgKeZwPHE7YW6xX5zo5zcpIoUCZKOWV2L4dzTXoWbUHxUIaHkO7YNMCquRhO6AOS8xiwsacto\n",
              "eBYt4M1Zjivdp2M3zZbW+NJcKyrtghdOQHDUCo7VkHRWh5f5oWekdyFrcOF7bwUteIc9aoomTCcJ\n",
              "62TXD3VdOZbA6q2JsH57b5Rhccl5grbteokHdCMfLc+kaZirJxH9bRee4qwPhvAp3ceM8GEeKI8x\n",
              "5QptFdT1XO+sCUry/lm2jtbL2c/O/jXnINz8Io8J2XGiWsBgqt0s2bl9gonLJCqcVxAqGeenWUoL\n",
              "nJf/pHpHUPB/tkQv6Flhudf/c0/lkSIVKd28y+ppxbRGp9R+pIHFstck29/koV5uSGAPfnDINGxq\n",
              "gE2Rm54cvuCBtkWgYj1S//1w2AC6P5XOL/XY611a5hLDZubxIs7MU3Efl6FShR0hozda680xPNXV\n",
              "6GMQqe8EdDBtR1MmwCX/6jSmsBLd2TG95guo8lofW0YaTjK76TohGSvZq/6S+HG0THJyfYvvEvgv\n",
              "MZLeBAnUP6GrV5kVj37Z8G79Cv98BE6i9RHQE0XJoxdf4OPCIYbvlEdFpcJterlcN9iR5jGsWIls\n",
              "UVotxOwAzxXKZOoCrp58ouXESl6TjxMeAJvknaoLRzm74KEPtuNl1QjKamXYRGN5nzHlxyY3snyv\n",
              "gxTvLdiU9uL///Osl21udijwjYi/uA/vOoJ7dgYaFo7CNqNdx8xWMznCOq1/a5htiIZhiLzUI2Uk\n",
              "R57iDlEG3W8/vr2pFTfTHa48jBFk2I/r187jZQ1m6UyI+fpIx2wUpCMr+zSsvyBqlCCUE6L3XVF4\n",
              "J4jBUVSRdK71RdP6zBF5RFj7vZDN49pd1Jb+WBn0sHMYw1paNHgc7Fn4l/jpLvO5T2OhCPNtkW/p\n",
              "vTSjN3ooGALMuE9Y7aJIOVSA6zcgwB+NwOh09r1N0iVMxAM23PqDinZKgFbDHUlIrr1x4rXmA7rP\n",
              "akvI6UGFg765mDE2ktTu25Hi3HQI79Y2TCBq2RCRmbCkpn5m9k/+MeSbozuamKqZ7Yefuxrcc1Vf\n",
              "CbZ+4l+jb9PUMLUgxLqME/y7nYOGS8rJ7X679eh97jjd1/Ull42OqWw3uvOl+Qhr0nnxwr//Rvbm\n",
              "ygmZ6FHWc9fiEJnan79mLgjN1cv3zN1feupkDDay7P3mJE+W0ZoCVQcabMcicVdOIfLHylYJhXQ4\n",
              "/1OkegzDz71YG9FPvHsq6KG9rWc/asA8KhfQ3/ARwKHMfd2fkPskpUFi8AS9HcxApsID0l5f0Oo1\n",
              "UxS6PHKcgyvA2s5AtB5fBa3IfSh94PfZLso8KZehBvi1hO2EHCH0sDwgYrKA95Ff1TpB3Oe5DoI4\n",
              "FO761r5qC0Hj9vEXccwAin9lwY9nLnU0shdqE288SmwM/aJjSffmZtrCPO+n/drRRsPvUxyBmP1U\n",
              "82sn+nhkaq7iC2uf8Fhrz03bzM5EsH1rmiZ6rcvA47+b2ZmDuewMRdzpQisruspjyEzy1X07syON\n",
              "Eamy1h1HUVsErPDUQ1/PfBWqtlEWC3MIgEz1j8WviXJ2gjVKk602a0Giv5b49JtJ6Op3aiKYGRKS\n",
              "CF09uJEOiygEN5anHgQab6WCj1h6nS/oKvgxLh8xH2MVzqoTHl3sOXZ1EzxRDLB4tGd+cPXRDXsJ\n",
              "LcuDwCgWv6vzi0AJ4Bn+eRYxIbQJhV+vOe7lhJiXaOkLy9p11ExobPR44Uy40AorI6BmgW/Q06Tb\n",
              "G1itFBeFKZp+fiEVAFy/AvU+osiNYOWcw6MmDhoXQgU80f46N/UzrX4RmkhFDvhNLpERWStjnWWu\n",
              "6D7z+s8M7w9DXbvLEisSqxmZzmusIqhdzx0vKsYPfOdn6mb1lmQt+efITlHYbA7lL/86/2RgO/mi\n",
              "NmxTROcP1ymzHNseqoFQc4J2K1KC76+dwzSEku3bmOdIEVCe0XgAu24DRfx6oRCEx93eZDyma/p6\n",
              "n49p49vhfwgQFHlgJ3NHeyYmxHO0jBkwgbIJZEw0UywQjDNPHiU9JqIXCoz/91TauT64Do7sckfq\n",
              "Chn7gdPuPH3KjUMMY8YATCwAAEayT24FYXPEa6cRdaZXaWrN7+kEeWaaNMFsjb0Pc5ZcO4oOtAbD\n",
              "jemUbmpK81M2msSqwCTjFt/OzV56h6tGTtS451/cuE6nsewuHQe0bU5KbPdvnnKDZw2xMLTHZzRf\n",
              "rR0tRuCI6CxI4VeLBq8VjBOqKP8zEZtGoaXn9k325lbFZ+7awAAD181WZeR6P+SQZMzr89d5/0lI\n",
              "8ubSLcF2GI5evlqiHAkThex+Uxoq0pH+M8UxUElJnmvYCaiRnylBfb/1NebtBmpy9yn27QfSTJxN\n",
              "uuKwExe5wausuI8Opvn9iDmpboDUvx+QNgGQzcGUmztJpixSASSGVxWX+BoQ4MQsfQ3cW3hCRmXn\n",
              "yqNPyIomg8Frlmb8VxmM9DdBi72bsGwNHZthfTzYoSPnGUDpK5SNtF/YXP1zb7VcTtlxQC383iKS\n",
              "DLqjAMxlg4F1Il1MPSUj0mtzUJ8tht+xAhs98MC+lW2mMTEUXsjfQvg3WAKNbC2CPo211/DOMYxn\n",
              "2jbQUWB+f1l38I/Hwv/sldLX0HkZxB5pkPvLJC/shszy3q0GkQwgP4Ge5rSOp+o3vHp2fm8Dj78Q\n",
              "+RLDFr1q/szRsrRMG8ceUl5ry5h0GiiC8ZS3TuDGMcATY8xrLmju4HWWok6OqaeiirvT6pv8JSKW\n",
              "3ULVk/5ue2jpWIOuCqtP53Mjzfnyo+gBvf8q+OHw4SPV9dOvr72rm0BKbN6bPED8nU7x7o+2wXvI\n",
              "P5tIViWsCBkQaDM0tuaMZsC/HWTfGg1vf0TgXMt6mFqJ3hcCNY/Mk+RfwMTCD82tWFZxwGpz8WMl\n",
              "8zMY7h/u2Q7vuqIdGGu2WO53LrvaDhD4p8EUFlZWj8Qwxm2jjHF1X4gzrk541qJtPWamXWQB+MxA\n",
              "y6CsjP+2n86RXH3eRcNtQ6NnzS+UVg1KAwowFuOABp79qbQ9lk4SvT5afOnzr3dhY8D9ocILUzPK\n",
              "tERhG8aD7Nq6zL5QVty9xNkZnHPl8FQkX6oFx+kyOpyep/4ETdnXYOreqHY7wp83ofl+ZB3ZUBwp\n",
              "Wld33/OkdWJKOD5ZQZf3S6qUmlVr8JscR5HIuEt2Im8p5K3exW8NWZpOHDPZvcN4QU+XV7FB/7Q8\n",
              "8NYPliVTAFRoTbMMgtZfcU0XGRXoBJjqyl1d++9E9NarhjLtyMYdxW016/kAmGu1/pxUdG3QyuXc\n",
              "3YZa/sFv0wbGpU/2sbmKmg66sDDXbOeWv2lZoBNZ6VzOe9x7mS9kfrKdHbK1TbGGnI6h0wM3nomO\n",
              "iePM4yozZlg7Ibt5chtxCL5X4mOBZIF0HjQT56sQNd05KRdLWkg+Bng56MK4Lr1KNA5/PyOibLVD\n",
              "9eG534O5wAdyvxJKbdn8MwV0NlFco840lBFX7x/a6bcUbRPKECcGynWDN6qu+w4bYvUQN1b5FTiv\n",
              "D+E6DsdBQDms7k65BccY/B0qjTm3GbmSXf99GmQmSj3KzeWvuB5lqNQQvlUQifpDXMyU2NqG1c1d\n",
              "8/cd1uTj560QsVFPALeK+SarDQcMQpCuIKvDpQIy9cho68vLq7R4RNbn9KJXHXd6vi8s3zK2FsWB\n",
              "q5aghl7QISR/IapKeX69vjGckwiIYK1igi2rrPM2lpEuntwf86ON1xKXbzXyp6YMlmEas4oKUk+P\n",
              "OCQr6C5//V9IjEROW1PBwmnvI//0rtzA+ws2TjUFU9pO7NPWHPakx8n+1PIxiGy34PFLehLvSf20\n",
              "7+VY9gyamv6V1bVrqgCRbrnqKhdlTPUBPvD0oQAI+gzwWSoPm2d9VRgPA8UF1If8z23PapGqXYsO\n",
              "orjcIdK53kXuQE7bNUviOqZ71FJ/etdzlXdwH5/LavUf69BC0595UkvbTtOGlknczGIB3CMlR2XP\n",
              "ZxoAU32c42Hln3oXQ4zdwyx+eSilQrcKGg8jddoVBes4uUGF2hk9W3n3TTrBLNq/xuS689c3HWnT\n",
              "RgV4he9nLnaX/YjAxCsq3ZedYQdW8vwg9xD6X0+4ivxA8q8ARbgAAMUxCTiYDXkAAASeQZoibEE/\n",
              "/rUqgCKNfTgAaYneCu6HTy1zTuTaN6vRK0wTMHBjgyMA2TuCuH8ixM/2lf/j6HQ7roUOeMM2i2mP\n",
              "I7lGK9B0tccgGDK28Qnn91W0yOJjUsnEgdjB5a/4s3xQ4dEUlp1IVrCE8qe1xndmYc+5IRP5efX4\n",
              "axpmeUn+G6b1CPRnsMOuwrWMopgDWAiwnh5GfRxsTcT330GSayXqCZUjMCgdded4g0reuCbQlPmA\n",
              "bZGHUZmT0UrGgb5p748rRPpVillzBsXILtuqvV2plkheD4AO6SZXq2sxqWacysaebqEg1GfzomSZ\n",
              "VKZuR6tdOkCKr/lDxcaKBYSmpO/XXQzG5CUERwmFBIy0wC0gYRYbEriJYGpvjaM8mxasysOhw01R\n",
              "YpIiy/W3SuoQW0sDLIKvCQKgiIBNuJgNjN9w5jphfNAQv+DuwhuZ9i2apOssGOc7o/bhPQxCedfn\n",
              "ImjjeRYfXI1JjaPkZHn99CsVI6PaiZ+1PDZ8tZD3P9oAjNzKvU2ljZWuP7ck7xaMLNkGE8AGEbOB\n",
              "xZbn7TrJkr7QmkwdCIa6TiwXCf3ALdr2W+PHrsOezlzoIIkfv8FZhx+d7Qtjxbb27bvIP9bl0jfY\n",
              "9ee76e8Dyfxe9CatuUWFxzEadg7iXM04kQBm4OEtJJ0qzrReYR0ek2SLsXzmTdpHAGUSJ1EikNa/\n",
              "+SJKR1GdWp/hHVLpDyW88a0j+6fp2ockMYtpZqMYFqPrke87AOJJuo7+WXRlwjW/51AEMrOTTd05\n",
              "3AZISNXv56iGFBwM0eqg6Be/2gktk/WdyYrjdpiH076HyVtrsDeW88dQkeCx0fJr8T8+PlimJfRY\n",
              "gN9v1wh5iBhuIhrg4hn0GKPBMgIWNAe9oEmnBaxwZ9XqLksRrnmc5WgOihT5LZE3autgHvnwjxb7\n",
              "inmEJbhacGuTaze9/+ELOWkx6SHb/wixHuoWCXqxl+pG4+y69b1svkAL0yY7bOcOahBB18MOKs81\n",
              "FdZB3bSjJbHWdPjfuALa1IIS5WwufZHFPBtwJizCtShG2bDBmIM+y0UoxmTOgGCEyHmUmKEWNShw\n",
              "TrN9yeftu36KKQ8myjKmS1TBI/hYOgQsqAWdJODN2StZiHXQZEYd3rsMXNAAvKwsfjgGGacplPZt\n",
              "ozukUjj//Lmekel57AzJxxlzvHk/Q5vuF6yFKl8BuxTY3LQ8xrLHLRPqP6VBCvL3K5+ObH+Bz142\n",
              "07OhXi4LQIz5h1hFEqF1CKKJVDVAAD/pskF/QXHBTZLvNu2I61+simrXnpERJwVruOC4AILC9als\n",
              "6bh2N43tu+OhOgo9vlUoV7zyD/S3c5+vOST4RFwKATn+86iY1P2gz5mFLSxcu6iET+s0RPk4M3qP\n",
              "AZMFjZD8iCi/vPwyy9iN6kpMnfJLFXysx4zuPScsHLeFAL8wWfgoZ/2WfUm4c6Kkq/4MjY2XfpB9\n",
              "wDhiImO2iLOZlhNv9IBTyurqYTR/nAbX7azSO/EOTmfX8KFghR3WiomUy2qLBSNBR6Td/MvZbFz2\n",
              "xqojFlm9b/Bvxe8G2wPDGbezT6ZVmMTF9XeZ4HIMLu+RBGfEAAABDwGeQXkP/wBO2kDQKbdyzQIE\n",
              "XHTxo6VhhEAOGKAuZtbvQxggGtr5yjPV0okexnaQgmv9hcdaA2BiAcnTowVjlbzbILdCrAY7Fjvw\n",
              "k0KkaRQJUtsP4ymiIN4jbTUUrUCOUSCn0k2RT/zFOphiHED98rhDU5bDd+eiKO4vfpnwhcMnBqaf\n",
              "w0j19Dw4Z4eNrGr3WuS18NxH2CFgmiCHzcrYD8YZPn6TxxCqExR8S12y1qsy7GmOc3nxWy4P+V5y\n",
              "ezXlM36V8Z2XZekIHr1AIMrcckhJzqJ9NaSIQtTs4W6gff0Ny7XV05/CiPj16XxQj4g+gAkxggEQ\n",
              "OQ+JcxSoP/kU51jemtWuP7oKFT3VdKxopuUAAAOXQZpFPCGTKYQT//61KoAAN5OhddT0iIRMcgBx\n",
              "VB8ANFSJhOECi59f+ldtUdj8NJy9K43TlUFSqXoJV38NUS84I3diHbU1R0pwraBXPBE3wQF/8qts\n",
              "1KicofSAE/fD+GKsPZPsaJaZ+v4F1GY+eA2D3W0vb5Pll9IBwnd/tlmoWIhuAObwn0QmKKy2Mdws\n",
              "dw4B7OE1EDRvQ5S82Q3VzElUGYXWEpoAz/wQrsUEAUGnqPlLa4CnqWuRRyFnSdID1D+/tXpn8FRi\n",
              "iBYsnSVUqt8APsiDjp+GDk4S7cpuVCsxc/ppFLKDUBT9jCJeUpW62ktNzQzL0I/jn/nzXdrzLFlh\n",
              "ID+zNZMeRGVvNrMTw1XHy0jWn1UH9DYcuHjPmwkSO5CJit3OjBgssC+24tUOFUvq7WLJhOFcMGOb\n",
              "wJKjIaRzYMMnvjNVFDGZJ5jq686uf2HfgI+XNYtOOPk09lZ21f27nIPuFYphNte0tGzcedayrJTt\n",
              "FPizpa21nEwSjlGwXSLStBvl5W5v60UMMDWmvoD4y1fQ4VGRcmps6o348VkKpyxLJ/1VUNs5O8DN\n",
              "9rCvN4UgbYeeJoW9g0N+Qk3SzK5bkoinvA5eTuOipjiGjhpOE5/CDYhE6LoOroZuNoeaK1dTB/a1\n",
              "AIsR2hhu/L3FHGK6jz1IZHSg4E7kG24NIrhReN5gK/5Ih0TWu4oZ93nirsgVN99CgG+4r1uvLMGk\n",
              "+Id+1vMJ+PeyMxOzkVBhvrc7AqAiAVC8PXnvQixdHF1NwbRGxxSpSv6tYvd//ZGUZTi6+mDhrW1z\n",
              "HuZtBBXXC3X26JYlD+8chx/AVM9BYQEEi+ImzNteiRN4bzwy6sUUfBNkZSsYwpjh9iwnSZizUJCd\n",
              "RKJOubmyRBeNUyhDUtf6j+wYbzrsojohpGikg9aReTNc80BTgfqYjseTyFtpqeWjlb5znkqcakZa\n",
              "mC8j4HCIDNuHB4Bblnh+inKGxiM26GXU/6YNhEkGmvUIIKRNV/59xQ9O1yYI9X5nVpXN2QlyU2RR\n",
              "IyTlLnpTmhqRlGulcxJa68sRrgXfTlxc6LH4Y82Vruc2+3/dcGf+Qd8z+VUuFasqamzfDvAP7MBl\n",
              "PQofgOep6aRwG9JR+4HO1Zge2aOCzV2HR88LuH4dJf1tzTG2/3W3mqRJbuA5+FncwyCpsFhiQiJ5\n",
              "XW2mGxDQmKeCjBPU/VfD8evxkkIpDyn5K0ncrEKsQzMJnZhocAAAANpBnmNqU8EPAATVu3ahQhKQ\n",
              "I+ys3cP3PbwAC1KRUytWHRT7Il/RNWjwSa+GwkfuS3YmW2X1mVcAJca8tzC8r9Ym1BJ8F1eZGZ9M\n",
              "JKy/MWkj0jo3je+6AW3VnGflyBBi9DLziiv2QLZ2P19Xc1g7q8DPyls+nswvhtHg8kwRlKcr2Epb\n",
              "1BZzB/dsoCLVKSj1zg3ZTXkvqHiwF327oSi5gnAhqvwYYxOXnWdXlx7Gj9OXXjK/RRRzNI2h7hGH\n",
              "jqPL5w7CE98imA4vDOPjAqNTAR29GzHReZ7zMhvrgQAAAJIBnoRqQ/8ACsph0cR6jAfvlfKJaAEW\n",
              "G+SW69UzxmsTWf+5A7Bw59EAhsMocTVsnhWjM3+CRA/aFsawTu5Rpeirnlk3TpbjNiud26nGM5vz\n",
              "yNEc/VeDz2LFAdM9P1rBQKtDhfl0hudxGH5TtcqwGqH/tPU0JhoyKiIRoxWj4fKEcGLgPv56DXwg\n",
              "MyCEQoJFT6N+aQAAAqtBmodJqEFomUwU8E///rUqgAA3k3bLZVKBS4ANf5Sk68a7zXb2f6CDc1+I\n",
              "CgBPdtFz/XhVz7u/EsSkmw57vMGKjeORXr/YKCgwhTIboDH/L7hjhyGqlQO1ClJkEvYjZJpsDQTE\n",
              "bIxQmJ8UrOe/mFZG58MmmggxaRd9AjwUehDZ15cXOwGmVBm25MDwJ+5nwWWDEmY14igrzyMsYlD+\n",
              "JrJcujIda8hGnTn+JHD1yLh+oelcc1ZsOLWO+o8TNEKwOLNwUEr1CKpVvBH4BQiiEgnHbVwlViE2\n",
              "C6w9sAknnWj+w4w/trUjxRUcUyYvXTYUv6y+GOe6LcY2+90TsXH0w7UgBE6HgJ3q32Wo3lKOwCc+\n",
              "h2W0j+HmqMMnsNdf1wUtXk7HLtwGT6zyma/mPlATs4EKuFIeCo1BSa2qGTJG3u7RDBWbemf5RFyp\n",
              "N8VvfNeUyxdEFII4cgCl+eu13XOotDcmbcy5PVtV53n3UoF+liWKALk05WI9WKvHZCeAv5alvEQo\n",
              "lPHUm+bVbNVnslUX5n0vtGVYV9/h5fbvwFe+/XodFhUwY5UWy60KQOkhoR3AE8XBJ0TqrjkkJFnh\n",
              "rFQ8hCVpb4gusMbuboBcothFo/gx0HbH+HxrrGFiki2OMyEnYW2CPjHItvRu3AbaMKJSqMFTDZSO\n",
              "GGh2SHkq1jm1qBEloqWWYi+cjxM3CabklVdUzhRTtGl+eYIV96tIz7QrRfUwGU0IRm99JbaouFTD\n",
              "BvtkBjfa7DZZXy+bztGN4ZHcKVx1J+tFzFi0FTdo2OY/mT7PzWuEZF/xPQJy9JF+KY3SunugFw+N\n",
              "JT2lbLK+H+QKFwiiC4tWhuj7u9DETHz2RB1k+xKzNInajuYWDKUNXz9NaLlpbCi4ERVqWZvV0pnt\n",
              "wrU9rvvsGkBa4QQFFQAAAGMBnqZqQ/8ACsr1KLYgUYDsUleaxmgBK2MLPjgRMjkaPPoX0HOYsS/D\n",
              "JOyX/hUnYnMQk8xT4O1d1he6kn2GdzI6g8q+Ajvgumt3ORos39KSQ6OC0HtlKQ6VPWlDBLDLk4+W\n",
              "B7kAAAMhQZqpSeEKUmUwUsFP/taMsAAcn1jjyEUplqoCtbx/i9graWxIWTXVK50IWdlSy7oM+ZNz\n",
              "m7D3L1aO7Bffi6l3VcMuCid9XRVzbcZxF2xyUMY0ktialEfFKdzyXUTUY6wiMywbAPnAEN3rR0Wb\n",
              "/eny13/Rl//oBOqwfZbrxpqxqvpX2qk4Nld6XobIls4lmJiW8RDZQZxW5x/o5kJsKOCMJLKboGFE\n",
              "e2dVNgibFSCwf6Ukujqav+U8exZuXiYHEteN4aZeDOQ9csxxnMXHGJ3A48DQ4878cyePsZq3pFoS\n",
              "rCne9loi8K7b84QH4L5yjPNxIGMOTv5I9Yb14J7QuRXw/pzklbK9GJI0gBB6Nh+YEYUfLJSBar1a\n",
              "liae2PXvBhoE/46j4aBwnnUYuzJjLXHzA5A8p3eM58zhPjeIw5j3vhAjJvGfqN6xHQt22Yb3pevf\n",
              "FylSTbW/CWxZfhHNeQMr5xCKlxH2GQVZtnzRv+SLSUq/ojjnUeV+eNbCL7c9AGapfJw/dIJv9bLe\n",
              "jWUVzPXUrziae0KxQdiSZX7akqZ1ns76rS7zdmAagS8XVEMXkWnwr6zVhf8EL+hueLadfxOpCkm9\n",
              "gS5hEite771HloTiNkaXUEmu37lD0EBFe13si0c+IVwyVZ1bAmJB1dWES3oUY+LTAHJmSfP9OFdR\n",
              "y8wbHHdCDHtkmdmysHtpkaRBtZ26NQQ5e6pLtE/W8PYv1Z8ZA5W+i7j18xiFgPc0ju+AGxO5IJOI\n",
              "un8+/rIGGYmkE8U5B14grdsTTnQiAIUOIZx0u6Q2stx3xXQrMAHWsUfipNAhVA/B06bwQknRKtTq\n",
              "csQ7DxqnK6SKK9khZjfRD+F4KOcsQlwvaqZ81npNMbYC6KVDGBlXBdraBrtgrMFT9lI7gDjRwUTR\n",
              "pb1e+erSA/gI4AW46ofDNgYBx1BKDhrcrtZORhyrVHobbqOo2Ay7zGzzlr0NQJZSNidMTVSv/hw0\n",
              "FCb5VdYBuVkjE/2wfWtOxUqj3HVDU+Xuha2WP8UpN/zpe4G3Yc1qjg4OgUU21EeOd+E+T3YN3zcb\n",
              "8c6CrMX7vw8OAAAAWwGeyGpD/wAFMtZwMITxsPgz3PgF9AB/IKiT2PZRHSeoFiPjnnvAS4fzaQhu\n",
              "+hOOq2c/b0CWl+NOYizReYWu18FnYgQt6yV5L/Asec8ewelL0UqsA/s03KfLdTAAAAMVQZrNSeEO\n",
              "iZTAgp/+1oywABx46C1AgAnPVLdVLhtRWmt5S9LjYdJzVAyZPSykOXeMX4nKNGxqtUrJi5IErFv6\n",
              "pknTPJcjPqmyMtbEwzEe0e2Qebz6NfJm+4EGs2vAmWya5JkSeWWNP3bInypjv3by+/m7g2WK7wEl\n",
              "QATMa//RAFNPUbeynWJuw9fPLSMWV8j/k5EbFdtBzMZK0dP3vsXqlhm2AF6Y0bJCUaIleZLKdqep\n",
              "K3KCOebyknH4HRZugRCunoaNqvANRQrzEyLFtnrdwRfM0w5SFa1tBjWn7oltH62f1vwogTSUb9f/\n",
              "/4IHr/2Y4Z6wOm7PIt+F7meSYogOrGEX++aPOCv6Ya/1GgwNUoT71ZfsT9ccH4/Ve8JnNft0G4so\n",
              "5Iod/O5MKk21MwYxkABGznNPCE8J1tQZwrdCqiFtAnKWSBYROhDZ30+3Ws2q/SqrAyOLLLyuj0i/\n",
              "SZ3jFseWbWz27L39sIRfyFu5jz+/s1VurapBCEX30F+yCaviS+ZJKcEe7wDxu16wS+pbT1F0Tchu\n",
              "TYYnK36iqFUatyZRu022MFeVgFKDnbGnfwb/x4n5lSId2PDH4y00cftAZm4D4De5LHu7XHM7w6aq\n",
              "PTy8m6LrtY0Dsu6/lP2xT9DFuzZvmr94xueHFkK/D5sC71Inv9ZH9CpiEAKnB8WsCunIemq2j3X3\n",
              "HXTsawMzX1gXSPO4JOOgm6SsU23zBwiqYni+qlwfCWdFJlkT7onsiwQa8tW1neI5Q+twqEZ2XTUi\n",
              "zFwnfLP2OaDb59ZFXWOvL+3xWlPTkfFbMnqP/LwdI27iqOMzS0eCdCBPuiY8kb2IfEHwRJYO8Pvn\n",
              "MJ5jTOvhIC/W17ZiPiZCmdPKpB1zAu79SAFuMgADkMV8+r0VlyxhaVZRhYSBMqVhSS2Pcl33nx5K\n",
              "oUjEulrn/FGDnVXpewRK/aqDtk0zrNzrBTBOI7hZ4dC3NVBYzC4HadhnLOyxF2mPySAO5REZ39bt\n",
              "gIY+0xvP7t9oRWCJ+aTwjNQSNqWfE/UlUDehU5+/PcCU5wueFlfRCDZhAAAAhEGe60UVPBD/AAJU\n",
              "40/s9DFVpx6nAl8mW7qw5utAC0dCIr2OYzn5di0LqY/CzMfDUyNn6lM6i4O9VE1ZUnHR97ljUL5+\n",
              "LWekR1jEaIEinsb2cwfhTLpYAMzlubPaXsQtxOSefe2VqQgYVpyrVvbYUr114Ir57JSDrCHZ8abI\n",
              "QStnSMaSkgAAADIBnwp0Q/8ABUBcCB1PhAECVPHEyx+eY+V59N1hJSWrmW3E14AeJdhwH+Cer33R\n",
              "1KiigAAAAD8BnwxqQ/8ABUEfhgGWxNyaQV22YE9awIkepOTHAC6qI+P/4faOt4KFuq9Ok7dgvFxT\n",
              "cHloptQfH5MZzM74csEAAAKiQZsRSahBaJlMCCn//taMsAAcm1DIhaABl2L1E3KPzj9B18mtA9z2\n",
              "KFABrutxMpy3UJBh5NiIID0MdCyziy4hrf2tZjiVEn+rTh2e67dfylad7zg9yPSptREHMxNzsMwC\n",
              "cyVnel5tPGe2ANfQsHj1zz8BJ2K7SK3EfxgFLeTDlAoBnCsXRfLYnXHaM4cXqNfxUPW4v2IYVkNQ\n",
              "T0AOYNBvIwkmf+aQMuYClp1lRl8nxzosuG0Xf4Qyq+0oxXzjh7r98Zdw+xYcUv+szKO/PNiaLSOO\n",
              "pKATlIFKCNRyTooXsF6oJ7xtpfPLRZf4CkbxgfYCVbE28eGOttKXpIZnbvv6aHTeu1Disx6szb43\n",
              "M1swb8xXmmmAfJpp7cl2up947qVcQBwfVKUlOa62KxMzKx3jsPJiJstnzNOrCD8FboloQnlKamOp\n",
              "yYNO7+Eq9p9iuaG4pKl3WCA1fGPwSd0L8KUjjju+LgT+lLHI+YnqfW0yiLQRA2/T3nDciLM7VlDE\n",
              "PWKv2dbQmkF7YR6MCfp3gnMVDf8GN5IzNracbLcL1jn5mjfeqRzN50mWGkwvjI1dDLn3dklCYFKh\n",
              "XT42ruv6HIpgKPErYiQjRrFz3TQc8MLcW+nVWJTZ77TFbxRya0qgv89Mqpvox6oor5MC84smPL6Y\n",
              "Adahx5svFwI54ExYnYtu8xAfiRcNurz6TwtmTCZwNIpufrLFw7l+voICVxtYmXXAZdDLZO3eURKw\n",
              "l1QWxNE+aP4iDhO/Vkr5JV5vLy96jnk4vBwPQLb+f84ldH+9uRpJ8PTxqQp9bnWVoUuqRqrfRj3b\n",
              "rl5I2OLaGnaYDUq6x9PW/wfBs8HWrYwjq7dnHe8IIgXVd9Fp8QorJs8eWZX6QLmyq5cDkXuA2Eh+\n",
              "7d3G5TmiHdEAAABmQZ8vRREsEP8AAlrbI8uXoQ3CIADYwmr4jZcUZcwuzkiyOHyvEGldK+ppDZV1\n",
              "SnWEVJZT6xtaTla8E8Au5JTAVkc7k1J25zoz942vxqdRUFtscpRuAJtLgHGH3PYfxUW5WYywxWS9\n",
              "AAAALwGfTnRD/wAFQFwIHmPPDva3mO88S9MNug0zeCP9B9kUXegybqgL3iIWifO7VVGAAAAANAGf\n",
              "UGpD/wAFQR+F/AFAiC9T0s833JGRRAyu8CZT+x36SDWrThv0FZH03dbFoj+1dtaj44AAAAJnQZtV\n",
              "SahBbJlMCCn//taMsAAcdFJuoWKtEAL9wixIIvK/tElAFtu1k8ohVVpfBkGCjawopSYA3zDGqbNk\n",
              "WfFfZMR9eGAEVLOi2nh5RuYphel1P69AkL80Al9lVcaVUCWpzir+5mMsDijEZjgvWqeNVgOCvssP\n",
              "x36+RWzNup1lwgGtBPVK7VWRwMPCCKaPAEAyWYNqHnzuCgAF4S2zl4DGgleCD0ohthoyW4Kwq8Ap\n",
              "ieNCIBc8ci0naAaY068SgNHjJURMZTt8j80ZrDlNE3LUBU/C9qSsjGG1xR3X2MBuMr9HAS/sYePt\n",
              "WjJT1L/lyON3bEnEzN+Ipxh4XGj3FtO1V6HbDjrQG1Ix90w4vZaoNhEJJkI281DFXJK7Tnf8bxN0\n",
              "3LW2AegdI7UMyGn9DTpWYCGSi67rWL3WLQpjyaaf9YSuAnr3xS/wvGvvW6j9pmd3sz2NZndTSLgc\n",
              "4S4pN1fajU+szbNCgqdCScBLC36BajFEmrmqYEJRHl0XBHwiNa3BLUVK7oObmJ6WCbP9FJEqxAGE\n",
              "2KqJ9KYlB1RO6rPVqFqiLC3HkDCRild2eXGozMowYkFXItY7s5zmIPX6pcLOs2YLCPZo6vLR/IoX\n",
              "yJRuxnpq3E+aVg7gdRKN7tm9Om1nIRels3vPxdsekin6YmlKEdkVYg5Se//JPWNy7V7X5tlhDdfJ\n",
              "QMm2uzvUBNCt9lfhkkLMQeUprAzTKT0fa+qwxqWB6BwyyBRjdyba9s2Vhx+QhIztUtDdFA8YPTb7\n",
              "TenjQMy0TGUix2chkZLfdBgKekDBVMmpMQbnVFXP7Zd+9pN38mHM56RdAAAAU0Gfc0UVLBD/AAJa\n",
              "2yPMJcz4ABZybMzdfPP+mCSlvJUuOO7tncNCRo+T9pvZ1x7ZxaSip5mUtMLEW/MzoWgUmdqXqhpK\n",
              "PeV/RT+An4MJRVcxbkM+AAAANwGfknRD/wAFQFwIHS8OtavWCBGzsygVigU49T/j2ENNmsKCxcSQ\n",
              "3P+5bRqCwJSdttuUNVUMpbQAAABZAZ+UakP/AAVBH4YBh62AFuriuRooCzstmKKYLoWT0AjiRk9G\n",
              "4xxxcJv+cVrNXV7ClwX9CuGMtAFeP2Wff5IKDHfkNcPCv3qHW8Kb7jM4FyPmp/o1dGiWl3EAAAJy\n",
              "QZuZSahBbJlMCCn//taMsAAcm1498IACPL3E1Dso7FzYq5DJWzBq9iwzdqhyNEqXJTeE86HQUezR\n",
              "oJP269w91zamnxU8e8ztN8EuB0TxzXRpM7sgjplC8CAQblV2iJdZW/w21TapD/Zi+qJ++vtRyvST\n",
              "S0YlodsGrhdKPLC5gXL90Skuta9sWR7Orutfzuq+bhWJAsOkAn23412Zl6D2ba+S9yMTQjLXgwes\n",
              "SqH9wlduKEmwKIV+LJMCZd/HqIqWiQmn3yjv3aWC+/Gx8FDKQwqqev0QrI3rw1sgA60VAZjocb1Q\n",
              "xZ843XAib3EnZdN/GA4KFYyPreuehBd68x2mwGY4xIx05DOHJFD4oaM+WBDyXECzCn4tjq3wHon+\n",
              "EcRuWVmgYJm/ExIk0+x9iEPoq5cW4EOOCvq7vB4GrFqOjSQbF/WlEJHPGgzyEd1c5R5XQAvVh5Dy\n",
              "av0UxhO41Ur3d4p5DnkTspc7v0MtpVL+E/FUE9zPfzHCWHzysSJhZWiTdSJaOY8tpjcpEEj4rHXz\n",
              "IQCST4AqGJLbR9QacHKcR/+zxGDSB6ey0o/oDog222J6H/6qPIW6/WXi2GgKueQCBrbATd9OU7pS\n",
              "Lhh9fEjoGdGsHUhsT/9xcsVdbaSrAr7mjYXKG8PyCL61nagjsaW3e6JDifT07gLQ9S36+w3nZbUW\n",
              "HFDvKWLKmEQ9EoRZhi3fgX9tnc8Ajhb5oJ0FUPPyPDGFASxvJmMd0twpKFoza3KyJ7AFd3rAjwAp\n",
              "Cspg49G5KaqzifXQfMYgStZjE2nHazn7arlreVjIvDEy4GWs3+pZYaWXWWop2DpyzEKtrHjfM4YA\n",
              "AAAtQZ+3RRUsEP8AAlrbI8uXwQ/zTnN9/KIMzX3tUl8D7R/PIsvFK99JJ6287g6ZAAAAKgGf1nRD\n",
              "/wAFQFwIHStQmQAsKqq747NTsCo3u4EXDsf7eKrTZpKhUIGW0QAAAB8Bn9hqQ/8ABUEfhgCHFz6v\n",
              "gDjBt0ihtoA1tp9YUePyAAACJkGb3UmoQWyZTAgp//7WjLAAHJtePfcgALCK06CMk/Ndl6dyw8IJ\n",
              "0eizP/opDpGJd1fphemLnuX2f/JWqyTZ2yvCzZIyJeWqkucCT7LkBEwWuHXkAEM4OGyUNgQ5e7JT\n",
              "R9HqVLu8aZcPt3pTFKnG0f1VtD6C0yDgyL9LOwEEl+kMg6/uOZi9kCKW2UshQoKRwrQGmhlnMuP+\n",
              "Y7pGw13Tf9ttLg1Il+twasjPzBbeoHwC0KKLxA4yDTzcrXDWOstM4m+TEQgRgIgL4+W618DAxDHQ\n",
              "q7uoreML9WgcfL18a9xd/lhkIhOIU0Q1v6h3EmuXNi2qNtsm9Rs8Pq+39S+isEQ6tzNGAiLw6BdV\n",
              "v+VFwYL8MurUy6tHK4vzxv/i2FXba3N43DPK3MLJhOEK3bNvq7kzhTHXXOIP7Ul4iWtAX4xAI6g4\n",
              "drQARTL7x6fglOWM25K1rH+rl/a7Las8uMzYyojBpSGm9dGCjh+K0QIc4Vlny6orz2aN6sJ8QZeH\n",
              "40H9FJEyMcNAg5w5AZ5rVf30i+0YHKD0yPd/FUSxAh0Zsh0UbVIAA8JPAIE0l1e+FtEx6CjBdcvd\n",
              "FPVF3ZBLU6HNP2jU2/3nqOQWUdS/t8jKTussrpQc/j4eC1GTCxOGQNT3F4jvnYhItnwJH4GTxzCJ\n",
              "eMDYHqqi1ilNZaGHFt5t3S07cNlbjjcQRLZxzR1S1y1W3D/rM5dKSx2UuhsmDys4gD1W6BoDtIEA\n",
              "AAAwQZ/7RRUsEP8AAlrbI8urR+/Dstg0YOnuz7CCEANi/14RYKY3PLeHF3/FcGeAqKkHAAAAJQGe\n",
              "GnRD/wAFQFwIHS+azKu7SbOee61Ex/pndRib+1+PHsriVsEAAAAbAZ4cakP/AAVBH4XyQD+b1U6f\n",
              "7KQsKlxBK27BAAACa0GaAUmoQWyZTAgp//7WjLAAOOp0JH1yWS76P6YNkG1kmkkWT5RLLtCBaSan\n",
              "DojqpNl9iOcTonscdQGSNS67io0gBlQ+3X+mpOIx3ETP4gN/V4QPCJqOTB5UeKq098Y5RLj12EaP\n",
              "TbYiVhP66Uffn9m9GBVjBbKCv2wqgMihqN5FZncT9eClolyNl3MvvWXBuHlEia8QpHxmv3E561r7\n",
              "47HlAx0XdxLtIYCGeZsHfc0+LyRUGPkznWVQlVy5TueISK1bI9VFJDDzaQQJOL8NP9V4CoC9Ouf+\n",
              "ErewkwcuomXamI50uae2RcJYqj2qA/415J3QTKAyILSlL7U4kQwvDSALNBZTBnG2j8EkUIVJEaLK\n",
              "d+C9pDNOEEonBApyRZ6FotaquxvJxtHSb0R1RYleOoGXL55x52wAZPkt08XaF1+F5a+wVQl7HSrA\n",
              "EAZYwzrMKUfQJ/aNK5FaT98x8zuttPibyH4C2S84sPn52HOcUtsvOhE7jANeL/wE5cd0t4VCoeUx\n",
              "20TEoD5Q/oIXGsPBP0YsOHi7ZW+foeNUfXJXCsI0BRwo5ddZYXSNdwFm7MsomGaGNKVnZPamKJT1\n",
              "SKwJUqCGb05cYS/MuxWqATYbii5NgDArdKyOS9h7hgUY02yUVtNblDQmoFEYB75iJAPEvomMh1W+\n",
              "EuA3qtroJaY5IRW7+/kKq1Ljfmq5d4+8kkami6F+kCtn+rqqyfV6gikqNCUKWcJs2UGZwkQ1tYDo\n",
              "wukLjt7+Prnult6OXIm6Xu0sEpPFIzIiRvPTJGwqN9rIYF5vqp8JEK1afHquepLzUKmDc63NwLjJ\n",
              "exFrlTAAAAAzQZ4/RRUsEP8AAlrbJFR6eciu88HbVtCxRZe4iJFVWgCDYd84DsxxpdsPCwBpCGgS\n",
              "UXtqAAAAGwGeXnRD/wAFQFwLEvGWhxdO1J2O2chwuJ4IeQAAABoBnkBqQ/8ABUEfikPWHR0jBAeV\n",
              "UvjSFWCygAAAAipBmkVJqEFsmUwIKf/+1oywADka6/C0AzTDKmjEKC4wyo6UdThsvoKodtrZUciL\n",
              "Qxsw0U6u3Kd2vqbqMYKxN8B0K0cxvXz1pYTiGbRId5X5y+/aAHu23qxy3460/teAX2v1jE4tMwbH\n",
              "QSmpqNJnwBoHEQ2OGEzKEQNYVglrLjAQxBQYZo7QYSrFDl1+ejMoGmGhyU2sgHYpLsQ1OVo3Kqug\n",
              "uRd3wgWkCpt0Aj3k9oKW62ZVwtYW5m9pp4XgN8PnteYjlCxAr3t7KFeFyITLm+G8QH3SlpHH2/Lk\n",
              "mrsCj4HwCvf8IUmOIq8eEVZSBiVyxUWKK7E2XC4wlz0t0ByO2IoW0qlIT39erVvM5BzqqVNb2nPw\n",
              "YJAZMXhQ3cmzv/PujcY05YOTPmHV1JIHofYzkJdWVik2ICzoa/yE789Ae4dT3iAMw+c+JHmaJ+Ti\n",
              "r10RidKTHIx3Sia/S/3wcd+l1AjTgK4oVuBiimNCaK13b1xU2Zc0Nc6pzyOxKBGaxa/3HimzCdE2\n",
              "h8qPsS8uDRXVZ+6Kf7AYnTT4U+gp9ddlbDdB6t6MS5VEsDCCowr9wqa5Z1GbjsrfbC6UR1ItkjDt\n",
              "zUwo3d1vw1NCW+OrvnL4zbbEvA6TMNPYIESTfGYsrjG5Nz33E186WwpRoUgAptdE4NppsEQI2W8y\n",
              "Fv6vQCU1xaJj+YIRjDSmhnvsOrDHCpNhAb/C0JrU/gM9QnOjo1B49BmhSCAYwfYnRvBvQQAAADNB\n",
              "nmNFFSwQ/wACWtskUwVfB9zr/P0ABWro6HagBt35jZLY2cEqALAMzbA7L7qLukYBBgQAAAAjAZ6C\n",
              "dEP/AAVAXAsRysus7AgoKpGCtsC0lhMK4N1OKC8/h80AAAApAZ6EakP/AAVBH4pEOqulRxIJZPJL\n",
              "ijbbg34E6VT+UqoYj3/QQ6OPURsAAAIvQZqJSahBbJlMCCn//taMsAA48djBaALUcx3KAfEL2smE\n",
              "7jDFI09L2Ri7rfioG0KqGbbNa5quiVFfPxlEkmHqhene/KAFapYxViH818GmuRAEQqdID7haEvCA\n",
              "VzDhcweX9BXP/ITwnfiTxRzeWdFKzFe9opBPQ1oxc5fCQTkINUic2ctQWv24I8w6bqiJB5c6Etkb\n",
              "E3HcldA9ZvWtgHTxl7ImUclc1bbsPAk77WzSw4Ry4LUa9R7ebRpZHU/C9CzmIjszp0SSi3e2kjC5\n",
              "/waUlZiOAQqKNtLVeT+X5aPVYoDPWZsGRpN/iprplj8pi9KDlbRoRvUxQ2t4Dhq1qzdYBkr+9nBm\n",
              "tt+NHJbhdeiAGV4Fj5So17ebctNpd49cvvlF1LvDn+266NfMJCS3rx+umQYMT/FB8iER67eqPkYr\n",
              "gGjm+hhtlm0oOjN1rIp9wfO0DFd1lyBU4LS38NX6o1aYsmxfz7H2Ty17TLgWoeDPx4cxGnMNqSBw\n",
              "kYUHWDXFgXhWiP0XTZkLtunz2vb+CHk81aW+nogz4vL4rI0dA/52RppGyRMDDWnFZg4FI65EFnGl\n",
              "QdHpLAMWpvuFgG47Oh5ueN6jbu3VT++IMj4S6lZpPiYrj6yfm/OIejyFh6L5AjaEiUuUmrB303an\n",
              "qqtFd0KhQJLSTCuQMaWIe0oJaIVCDMzwqlAGCH2h738/krdyZAW/MVtZCoECGBGWev/CPTXo6K55\n",
              "swbqh+5DH34WYksx/wAAAC1BnqdFFSwQ/wACWtskVIM4WPmf/bk4ZLM9l4Zd8ogdObTznXsd5dQ1\n",
              "ar9EAZ8AAAAlAZ7GdEP/AAVAXA9OlGNInqzltVHuw/Ja2frYe6uvzjnoihkFlAAAACEBnshqQ/8A\n",
              "BUEfikM7mJfYdU7fO6SOTKzZXgXWG2y0BeQAAAIdQZrNSahBbJlMCCn//taMsAA462o5oIAL5tSo\n",
              "G49vGeV4WfwFX++ceToNTlzgXylxlmakxII9nyXOdPkJzC6zDcpRiIEhXoAsykgvmTVLClddaXys\n",
              "2UKcmmS/hXCnamTbW3sSCEbvOqy9o1cbylilhJPGl1GIfJ5NTdZCRROC1vy0qv7XBaOkASSdpAg1\n",
              "jnjOnJi5rEfrjOajKb7a0hiUuZAn/Lbbd7nXy/Fa18AYbz02ioKJYbv5z2yeO0FLzBexcgGfkTEH\n",
              "MVRFDo9fBg5zklVW3pBCol+tBci0diNQQIi7LnSM71koHBkiQXg7Sa6K7OTyGeS3OICtOfJ4TPkK\n",
              "HMguJ/UtJk8kyPT/dPfE8mqvXQKPld0uJPjWzm2vzotmJEZeam2CzkoYkoKB5uKmQcomVpJAXTfS\n",
              "yhkxCVLR6r0MpDynoXZNCjN+5vnxrytXta3XjDxy20h0CD4QlSVdXj/F9AsvuGP13T4HjizHTfS+\n",
              "2AhDocKYw4NXLs13iLs/fzkqCk+SH3BN9n9n1rwg83vrhKhLSynB6ddl+/bQCEdcjkTVmdRBeazJ\n",
              "H0PJO+upWNbf5E3ieQfjpKXMqpiaRsVkjsx2KpUdJvpR+duoCMP0ItGSjJ+DiJmzSq4pWLObrk3k\n",
              "skD6JRyiDdgbtjUMLGN/eyDLZyw/xbZ2ysAuYYTBp5uES24Q73cCv/8yjNe0Sn35jR3/YPAi5Dec\n",
              "PwAAADJBnutFFSwQ/wACWtskVIM4Wgc8+6KuuLUmcbVsOp9oOorJgCdhJNU/dHorpUnOjqtx4QAA\n",
              "ABoBnwp0Q/8ABUBcCxHLZCyJgBMcDpOHLCgN+AAAACABnwxqQ/8ABUEfheGBr12/38cio4DEi2Jb\n",
              "GGiJnA5ikwAAAhRBmxFJqEFsmUwIKf/+1oywADk2o15xAH8ShfQA97aJDosj08NoWlN90mrCjF8c\n",
              "2Ut+bgjDbjsKUR34uFJ9caMlOHcMXxsPN3n9siw7hVPruUOU7x3HoP92fS+HNxvA0hKWfuPmiwVV\n",
              "6Oveezox+AKKnbnWcLAkYLsOVc0LFuSIZaC/um0ms+HHh1K+zkkqO6CGxH6j5zQgcNEyG3p0NGXJ\n",
              "f2PfuuLjk+rDMkU0rwo/xHOQp8+bjjh1d45ByIU3H4q/ELRE+r1STyGsv01a50TjcaHcyQLxce/x\n",
              "luEeVrJU+g5aJtTLu5ZPV/8AvBgDvGv7k+N+UV/FR6KRFpws1LEKWLRAy+tLTUy1moCeMvAWU+rM\n",
              "5KV8y5/+dY/B5HwzDhBKWef4d7aKrbtrhSiS/Mnj/dFdiVltA1IDYm5WmnzdAYt89BNcAh8Ys02Z\n",
              "Xy5XQGGYZjFFxjMFuWdCzqkPojhyfdk+Ns9VfuBCfpm70xztAGIJAdVVbwqBhaUNeNlcEBZKEnzN\n",
              "Ig4BIwCDTMO52lLZcLl9Dj18OQHNirJ+3Wkgzq7u+eXvTwI0+fuW2DZDtKD+YtOBz9YODUFjubBa\n",
              "mG0acN5UkHmjL+TNh8xyKjiaaLa7TLk+52clkI6crlHX7K9VxO7euzrPWgVJr7vF3frKxW14tJh5\n",
              "Ka+P/AABlVis3chD7AZrFDLwvOb/Lx6wpmaTR5OxAAAATkGfL0UVLBD/AAJa2yRUVkx8bPTLonK5\n",
              "gE/pq5d2zEz/u02yaAFcN3RCxr0xQWyQ3ea/WQiF3ishSREMklJcbRsxH6oG+nuW6RkCeBMj4QAA\n",
              "ACoBn050Q/8ABUBcCB0ofy2PCM/2ctz9ZcjRFR3wsFRtYu7BHxYhoJuuBSQAAAAqAZ9QakP/AAVB\n",
              "H4pCbDnrh8OD2BmKL0g+mVTB8dYakKN9+Zp/2oQPtIuAAAACR0GbVUmoQWyZTAgp//7WjLAAORUn\n",
              "O1wBMNxD6UEB2Qgj5h4qG1GOktYhFikGGiSXgidyXyKU2cdrCJn4srmXCU/4MSkjcLVTONp60dqA\n",
              "v9ZAcsJ13skYOs7ccBxGGVvpZjlge2kMpcPqDDhWaMXxq3UZx+VaPAltmXmRO968IC68yCsFz1pD\n",
              "acAQZnKZz2x0DgX31uY8F9aAAf3c8dkSBl/Hgpag2nqhvO22eKC3JrT6ppjlXE9wO+MHdPM8sXcU\n",
              "V5b9XPobb0fVa9HbYxAx4jpEi8i/RzYIvHmOMFcI8lnEcf2S3R11DEDmsjoLZHmrygSSBKuMW9xE\n",
              "uakT3M4HOiTq9Xm5eieTpHW+Quh40EkObgER30EtDLVs7O7m2qvyj0g+bFoT0p8rLg+2y5F4nJAA\n",
              "Js+A7/6GIvAnPrWSodQCFbwTMQILOGS1Ca3/Bsb/S3zB1Jlf9o0XjVmsXkBhR81Zjyu85yXJv+Xa\n",
              "//1wMqaUv6j5Tnq6cXyM7G3Pc34x57Hr5tAk3vJJhu1kKJ7Empzb1nMCeT7tw9lJWBArrKjCcKx0\n",
              "RGQf6JSwYGEcvu8imh6V8tCE+BfGrxJSbJaC5crTjqfF7CL7/GFGbfhOV1n4C0TbzPmA/ATL8Mtk\n",
              "pixduZ/FrC2Z3VeecLgzN/WrDCD+mHYh+CnhtiVRzACxjUq038ugkvclYkxVFftM3vbECZ78JuD2\n",
              "vLRJ1WvPanlsPx3ae7faSn2n6FOEgKNPGNFYOOjLvMukIDkv1iMoNqpsaZtZdlW2rhMAAABRQZ9z\n",
              "RRUsEP8AAlrbJFNU5dw5ZvHTl4YAZo1UHt2z55yOO3+VSXg9BhSYOxuLj+PddBZJuhCD/f5orNDx\n",
              "kCWiuIQ9xAPpb5DDf+HrUmZdUktgAAAALAGfknRD/wAFQFwPR9MmNV1DPdehnwLbPsFxRcsPo4J+\n",
              "pEuNdv33xEJOUaZwAAAAQwGflGpD/wAFQR+KQ9PrdKFRohQATt9D7BZtPLM+rCamgDBHVy0HyNXp\n",
              "NIWfq65Xxzwpd34Idyzpo5SCX0KqJgLapOEAAAHlQZuZSahBbJlMCCn//taMsAA48eDMsATZhVLi\n",
              "8+ok5tNEjxCAm8L5fqlksBd386k/Fu5xG8DgR4JWbasy50/Ce9td24J8Dm06b++rRnLJq/PEgFhd\n",
              "KuL2gp2/KCSaZ/QAIDV2Agh5ganhuDV1SrZ46ozJfTkZYlYWH5z/Oo6l0JDDKZvxvLpyn1t4rE+7\n",
              "WPRZbs6FmKn86J6dj1LUmrF3BmGY7ABFnOYpSi18fMsmtyNA35Lg4EC2zVqWkWH0u0pPlaCOHoeE\n",
              "Rwh2asTUlgfQCp5ND/BpLZ3hG65lT7WsNeQl2fd7xEiIR5HohWnY4kM1YbL6ldZifhhXl7Hz74LH\n",
              "GkFRS1XwKhF5W+fcArLdR+Vav+JprgcbkuuKjz84gYAiHFRl8kYw+7jWyS3kRyRBIaMiBm5082+X\n",
              "nTJrx2iaZnaxR6cU2TqkZJXEYIjIBip9msK0+zDC1K6StHNIQICYy2clrA1wI8miPa1krwMzkq3D\n",
              "q//UsKK836kRLHCL2l64xN2ge7SJY5JqWowhpdAuv//p6sufpaPRw5kQSFLBZdFnoT3o86bZTcAO\n",
              "wG5RPmvl+eYXC5t28PbaZsggAt6C5FHXq0tvDixLxSBW1xb69t2f7V+DaE8nQc5syQ1KTW7QqStq\n",
              "UC8AAABFQZ+3RRUsEP8AAlrbJFRGO5i13yz/PoDMYgwlBd9EWweMtIyLHmO3EgBTA2YznonlYldj\n",
              "24JkhdHX/PfgBpW7LwKrDuHTAAAALwGf1nRD/wAFQFwPRThiHAXSvQLg0HvvL5kbYHVBPjcKgoLE\n",
              "0PtCbRBp5ZgZEypHAAAAKQGf2GpD/wAFQR+Hw+FV5lBVdPtsb+EteflgSGYuvjQWV2DmtU+SHNFl\n",
              "AAABxEGb3UmoQWyZTAgn//61KoAA3nNs/wATXId3nZBpmdLSZNyG+wiuSNue2vvUQK7/Kfb2j0At\n",
              "4veimx17Z/U+Uh31dB2cN4jdwY65qtbg9X464LcWEuOthW5TR69WT6VVbfihaXVKVfq4SMbiOyhG\n",
              "f88Ahr4fNti1SGgk9NTKZiwEC2Lbzy5WiB6K3Sbxmyzrg6suCCki7k0uNH+j9KoXkmznrC9JJxdr\n",
              "ssSffIB6WQyE/eLHEiaxJcw6KjNR+UOONV13Azhzdvs1PIiwQvLuBUZgcUhroilGrxtng5nQclEL\n",
              "F0Xj6LoohXNFocc77xX1GNCas9Psn5TuC/fH0YFdzL1x7YjFsGiXu7r2A4U4NwX8lR7oZMMZQCmi\n",
              "0F1wjsqMZqHgC9dHGoPFNHe8/NoDDftz+bHDVlSN1FrhHZF9ep9PdCnYQnVv9MvyYdlJZbf7waF9\n",
              "9GlrW/rujqqqBGznZEuklk0VvQy47593X1ZaWyvLce1camK2+dQbsOFFNiQMl8hSEU3zhFhCr9Cc\n",
              "aZ71RJO5x/YyJPuE0KtXZhUqEvbLBWnA34ayH5eqyKjlFLxtI/Kf5fhVCR1jmyDcKyC+RhM82bph\n",
              "AAAAMUGf+0UVLBD/AAJa2yRSxaQJHdBFhcQQAAcPrITaAqJ/zW9jyTNHH5sfTmibC78qG/AAAABN\n",
              "AZ4adEP/AAVAXA9MAjlxhYqjoSolxIrjencOY6SMxg78dxDw0CbewAWNKMBvPB/iV5t062mJVZyT\n",
              "SgNEdQHKk2QoH9Hz4PRmQExdo48AAABSAZ4cakP/AAVBH4pCbDnst/Y/A6Rf6lJBMMtIYHZhqhEL\n",
              "s9yAEfWaNkgPmKheEItFVKJsfJ4peoMP8oDuHKvBA2M1sPhz34AsOlxJlmhcVFWDPwAAAdhBmgFJ\n",
              "qEFsmUwIJ//+tSqAAN75aAaAIQGWR5Ztw/bt86X6sLqBAG3p2mJXPKTUU23CGglpJ4n/J9WsPbf6\n",
              "uG5sWWHdN5nrxwfh4uiNZR+wMGYiNprQUYSqS7sYt2UYWKMLLq1GyKuSgoA+Fu5Iw56zNkzFFO/E\n",
              "D6kZH9Gb65/bd0eq8cDOuu3Ir0CkwdFFhjMcgJ+LieoP6hBMnS1cIXJvy4frjw7UiEeJK5gqLM0h\n",
              "oEUIhvoTOrccEAAfTFdNS2BMOHFZcuEwGbEGxyvCiZDU8nJMB+f2s0ewLVoE4BjI2ih5Dc3b7jsw\n",
              "4Dj+sjzPIlWsyX22FFuH0fQ+VPjHcH5HqffHpHpBryWEXJedyA7CwuWEHujV770AuN6R7Kpf787+\n",
              "SYU5N1MQ5pytr51BeL7f8nPPQv/NOwxHtqTf1AJ9XE/gM9JfhzQmKXj09nlxUDw7cQxgCDVDI595\n",
              "wSBP9MG1Ea/uyGvm9A2DQe62rDLd5HG6RRq7J9oTK3h+IpOM2ARRPkoXke0gkF0AkybzYmeF8yXg\n",
              "uoh36vZY8RTN9c+EesYrLFYBZbeSWyReQ7Ss2eP4/Tje38yoGkmzJ9ivNrzKY/aJHpiVuSO/mQUv\n",
              "pNHB+bIDNh6ChG5kAAAAaEGeP0UVLBD/AAJa2yRRGYRKmx1f4GtbBLgAEErcoyXDKTDdunNGXj5w\n",
              "cijpK173jK/FRNhXj/Xjyd+9vwN3/2KP7gzJxKkbhs0b71fz98BJf34D/ne0ZWkBq4+7hrRGKb4e\n",
              "AYicjUnYAAAANAGeXnRD/wAFQFwPSgrP+Gedw9NlMCZaZ/SGuA7b45S7RCRYipNilO/3/dU8xLtc\n",
              "KVMedMEAAAAnAZ5AakP/AAVBH4np9PZiVNuZbJKFvfHntEQsY3sNXRWJAHse9Q2oAAABQEGaQ0mo\n",
              "QWyZTBRMFP/+1oywADk21r/NgAOiYWoFA027EPolO7Nx2p+ES6Ygg7Ztz5KcYQfJJEtkPwa1cqmZ\n",
              "gsx01iUaKy5Wcc82MYp8N5jhlp8csih1Xan0Cb3lemXtBGAWHrimnhkxkBPJhCyOhhtER6RM9gE9\n",
              "URaT86Maro9f6sGva4p8G1Pp58jwQ5a6SVg68jaRMFZaZ4vxKmqdcFdRNnA+XmNmLYbOJIBCXMHq\n",
              "DkXWVhV/LLr3yfrblJONhsT+s/Lj4LeI2zOdunJJrcvC4tXMrxGWA0Jwn4t3P/aVpf4M/X+ARdYg\n",
              "AuC9/WaHRqxGoXpzvULa/Q/As3DohpT7+GlvH7YvYhlYIRvvJmRRQ06dfP9f1Rhii91xKnwyRl8K\n",
              "VMixdaRvKeyZDZp/vwnlVD1n+ZmdSr6AiziAwEPBAAAARgGeYmpD/wAFQXTSjCdzYYXVnmFuSOQP\n",
              "QH1gno+Iu4adiLIgBZZIPTYnQtqTrUflemAZwzI5V4Isz1v+2DBmsLtdUf9unzAAAAIkQZpnSeEK\n",
              "UmUwIKf//taMsAA5Gu52uAE/XkrZzSTldHg8SfUa8NCyiGeFHZXdAxEhjC6xfZA8JUPN4FWqvuEn\n",
              "QcXdkb1YPhB3LHtotQm3ENtb0iG0zTfc7KpGH/y5lAUes5yFnLxKTXLE3W0pob+YJC7UkFYSCa2E\n",
              "F00ib+kj7ireswzWrAgtrZ+TS+Krj4f2f/A+mrlE761C0t7ytdk9h6oKjj/Rcvd0vazxI+QFF/W2\n",
              "OGTNwQpAdEfmnEMR3c1scSCypq3niDsU0r99hSyx6jjacD75/CQ+KjWC3jbX3+9U2OkAnUVkZq0J\n",
              "gHCp7Aei9PC1Qk4WSBE50DTCxt9g9K61M+Ndy530xr8x41NPWgXt9yGbtjmwk7TfEKJ5O4/FuDJo\n",
              "wKt0t+yWEvkZLOBvOntWFpR0TKoyQ4UiU/Ia7b/ywoh1T5OjYdshDD7lJ/d+19Mh1JVQtKMbNuB5\n",
              "S7h5FyyAMnI0ujDJKi01b+gbO3QzP/QEswpMyykMPAR31EOG1C4i/8DEe6wE8OHkC0AThjHElLDX\n",
              "jUWkWE57RGBFeLHHu2qA0V+MI+f4eZA50eG8/ag4SZntJnEQk/WSsxOl4WGqhxcQkgSzwsVB58Dl\n",
              "pM+xCzzlhoEgvmNh8pURtQbczob6g4TNYFVK/O9Rc/eOqMk3SFA4JcRBwlPyGsGegBdcNrkiDMrh\n",
              "8dM9zji9j9eMIfGzy5gZX3bDKleFfW2OnvVOVe8AAAA8QZ6FRTRMEP8AAlrIvs8/v6I0XFdv934c\n",
              "6Ncpz4BtGig9407W/UViMzcFC38Jfy2R0rmtBmCc87E52CkhAAAANwGepHRD/wAFQFwPS/0m50qR\n",
              "IyQAQfVug845rPU6tGHdpEiT8J/wvO75ufqlAakx0DSmCGHUm4EAAAAwAZ6makP/AAVBH4oDA2Xz\n",
              "HAeLH+nqUDm04ORzL52ac35n9QwfgGgKsK5Em1SaLJWBAAABhUGaq0moQWiZTAgp//7WjLAAOOhO\n",
              "ePjrbACKasqBAimIBlPsRs9RqBv+b5OrA7EhXMvrMet7E/DjGrEFf+Z1EZWv+FBgNAxgdCI6zXYD\n",
              "hNP+rb+RPi/G7O/PHcUhPizAiOEAocanWrjugXhLSjjwCUY3lrCZs/oOnj602Zw/GN6gY8H1mboD\n",
              "Ox9iBxyksuBusA6GrDoa4svQTAn3O3iAQ5IrNCp76vF+a99Qylo9QwbEyssQS8zpr9qJYG4T13Rv\n",
              "tjdmJZet+p5UtdXrLBSR2MIlVVawkVZxBpx0IS1AunGJnYOfoB3hAd2fmSKfcOYFrebsjVIMovH8\n",
              "jUdmfr6vzMkJYx9UgA0hTqnG6XEF+rX0w+Bqh8SMqQafOb64o4wj+VV8gXf96Z1mQYugeqS3RIGM\n",
              "wnxcs1L4NRsSj28BrJY01lBWUc3ik/KjRoohZROObhE51asoLf/Ls1pH/SeBuxR9W+HXKCxA8ZxD\n",
              "aNj4HaIySBax+KbWwJsjMsNNtwR4+s5Aq3vmAAAASEGeyUURLBD/AAJa2yRTw7Q2o0z8Sxf81Aqo\n",
              "gAHBRYjydIYQORvnZ6fQE9+tFvnfpZe9zyO+MXZNn+940tdsHplukXNUvLKFfAAAAC8Bnuh0Q/8A\n",
              "BUBcD0pe43vdqHPUYb6LfQseudItf2+s48VsWhfNrmg4QaJDYTlDPwAAADUBnupqQ/8ABUEfikM7\n",
              "ZqaWl75eYjh8awBCt88QRMscjz46BWo3v5hv9g5rau4pcgD/L4bKCAAAAZxBmu9JqEFsmUwIKf/+\n",
              "1oywAHHggOEhx3lxSmO4QDzdXnsW/8xYxwNm/UnYrFBHkrv0pH5tW/Q6xUqFuMRBYvYtoLQuXm5V\n",
              "yOAvCRv0fI8DwpC+W8YupEd7DwLfBMgw2v0fhH/Fmp5JrLgM+8/O/BZXJdpIP9CJofzUdTfG0MRR\n",
              "My3R6d7OW4F9XSjQBVPE6KulMS5O+JOVXSAiLwqGhhvd6ZE8JCjvqP3hnc6niuoUKc4Rm4CURxev\n",
              "wW93QLUnB7bgT2sUv46OPa8F0prvM7KyIZQcMoNu4Z0mifXYckuO6Ah0Xm5LofJudxp6Nifalon1\n",
              "LPtvUeffhRt1zO8CWT1Qm5Gc1QkgU9rFMVzc1kxNdwGnnYiYF7ti+32dfe40OeFL3ssx9za6HNif\n",
              "cre5hNUG85cI+qcV+ZS/rTSlZ8mh4tCtNO31ggwNvXhLkWiAi/75LE3oqLCt7h2kqWoDmXdXK4Rg\n",
              "h5VlIxda9N0CNxo2+TheN1JEeb9gmZchVPyPM/3lsHSPiglJltXvoG8n9HZqOlonGarA9/eK2A5Y\n",
              "AAAAMEGfDUUVLBD/AAJa2yRQneOlU37FLvvYaTpahro125a/11YrYM8QtVmeODmOoTDbgQAAACUB\n",
              "nyx0Q/8ABUBcCsoGK6WGYho84bZK7jtewo45JMmiEodTQtZRAAAAIgGfLmpD/wAFQR+HnRrKiE0e\n",
              "1MM1HORZYuM0ZqOTVAhUD4EAAAGEQZszSahBbJlMCCf//rUqgADeTdw/KzOAIFsfqEFD3F6GPdBN\n",
              "WIKDiglrQbHmdSFosdj5udmqkWn02JT3F6M7lsElI+7Z1z0MyYcnb6RskDTGkJgWgyqwCGtTiQnt\n",
              "xfT/KlbEBEbrmVGoy2T3YnbP4uEF1Jxed/8EmGWBZmAZPN3aMOAOj9p5Ym8Ho/lkuvFlF+YEoM0E\n",
              "599NLLUw9FWV/SXr6P/XHXhZvEOnOOQVv9k9lLTQXKrYZ4KXXHfsJmbIPArCw6xYgTewN4vvbb3q\n",
              "6ezC95Y+EHulyVtsHSB7yHfR3q0Ky9sw1X5H0PUbb4fmzfpF39VOId0aMnYiIgDnyT0e5H9wnXzU\n",
              "yBJL8m+YDLDCAW/pO+637Kuees54h4V2G2/9QnNaXysFHfEdKsMDKR9jR5JE0K9IDksdVWcTy5qm\n",
              "pHi+yPGXnVvtug584H0b8koguAhea9r3CoqWfkdBY96cRphYJLTv18mRQNXHDyouEuNP3GDTmc/Z\n",
              "9sehHN7qY5MW0AAAACtBn1FFFSwQ/wACWtskU1V7G4FjO/78s440JwlQJYLNRnbmO4iLsLLyWF7S\n",
              "AAAAKQGfcHRD/wAFQFwO9AI5ccLp9sj/SAyxD27F0WP6+h7nefTvK/80I9mBAAAAKwGfcmpD/wAF\n",
              "QR+KQQhVhKiD2FaGNYEhWKLnCbo24T/ooth84wUR8OlIdMAAAAGVQZt3SahBbJlMCCf//rUqgAG8\n",
              "5xan9+f0QBFsY7hPl1Lk7EYLww6x/Gl/om63Kt7rH3M0+dKCcHHjxPYRJwpDzR0wyjdZnFfd2Ji8\n",
              "FwnEZt0TnZXqaUU1IFWh93qDXS9P5VdbX/vo5wmSIvPrCtFoQMwC0fqzXt9TDdAEeZMupn52ahea\n",
              "8jEmwI5WLNK24ab1fKMRukO0MFEA9VTqgHPteorHtgj4SuLnlvPSMW8Efk+Hu34Gq3Srvoxlk31S\n",
              "c0/0yF49uQjRA1vZIEdC+pY1Z8R/EWjaW5tUx894JkLzfOdxTpHaempe4vtnScGz7EFMh7mL73aV\n",
              "Wc2OBSAx+Hu19rg/ReW15EQl+f89PbqjTeGN76TujbSTBtuem1VQxk1Co/+FLDLUvwQ9LWrZ+Dqy\n",
              "tFFupMejaBUynCrtlX11u6NC70rHDHW/zyoBwC2/KzF24ROMuADrzX27Xu7OS+wdm/WDvGVmK6Ts\n",
              "uxOCdC0k+vBsQaZ/Jfcr6ITniY4nk5pruUEiTJ04nI74styENiUG9hECkplQAAAAUEGflUUVLBD/\n",
              "AAJa2y0nv+FRuwGKLuFjOnChtX8MxTVfHw06TwhsyOgAsHIVe9P0BJRxSJJLYoMm2eF52o9ZG1sx\n",
              "CojiovUDQKUef2wwuA2ZAAAAKwGftHRD/wAFQFx7lBaRmtwWZ9KrZaJD48YXzFEK7ArzSzvpWkR3\n",
              "tzL6iRgAAAAbAZ+2akP/AAVBH4edGsqIQhG88F/q8Fji+VtrAAABD0Gbu0moQWyZTAgn//61KoAB\n",
              "vZM7y3BaZz4gBr4pg3cGytqQr758d8EDG31AMdnvRugUA2cP4a/S24RtG4ZlL6M9fZ/q6izFQzTM\n",
              "Xqx9BhNh1Bn15pKAH+11O7surtlYlym9beU10WpQLOyehvTeeZRwlyVbWZn11wMAvvbvzZY2Jncz\n",
              "9+m1RGz8CSYjAP0FSqCJ0oPMBSksyBQrGHoNAdR/vx7M4wnV+8M/NsV3NGE4BExx8EYap3egHVAF\n",
              "HWT+zih51uQlNEqEa4n6BKxy3zwGoSeZeQ4QszhHzR5s9NfsRDKll+0P+8/Sv7pbHp7+nQXkhILJ\n",
              "7YVBcMDtlQNjIAyZc6Qv9JlmhmLP5npxIScAAAA9QZ/ZRRUsEP8AAlrbLSRrxaAEH0OHRh6SSLxZ\n",
              "et+Lu3VjRNdLZdAbX1uVL4xcUGSq6ghWlD/0ouhuZ2BEPAAAADkBn/h0Q/8ABUBce66wS1b1evGt\n",
              "wDifnNwYvKMGMGJs1nwAlqKyDpAfJJ1RTHfuY9kcyTPo8r66R/kAAAA8AZ/6akP/AAVBH9UD2UJb\n",
              "MfT92S6ZFMyQYygVM7QrPgBIWGXOt6bFrkwEmL/9Pe2/1OII6fgYYPQB/BEnAAAA4kGb/0moQWyZ\n",
              "TAgl//61KoABvKVIRg37d5uggeE06wA/AANy4MlrbBRgAfRxl7PhgeX+2oa5MCs6TD1PxgxvIgB7\n",
              "iENteI7Ra37DrUXbjRJaMbTDYwKq6j0X0q6pG7FLipDmO2fy0990fQ3OHt1WVbH2eF6G7b4IVBam\n",
              "4cm3ZeMNRVgz9BE3hY3Rk1zMBLHpwG8prmbjOscI+XyxdtFw/qCZxSmUQGDVD/8zsz1VQ92YP/RX\n",
              "t2b2qxAgMeQ7G74iDhsR347GaMyl2LYhnRnpPxle/bTHEnQjh9PvHVC45gsOut0AAABHQZ4dRRUs\n",
              "EP8AAlrbLRKfNjO7uMweYOWtTlXcRdnxUTvnjPKtdYbBQe5dAsuP44wmVZ1i+4hLKOEHAxKZSYyt\n",
              "iqzSQzC8AQ8AAAAXAZ48dEP/AAVAXArKBZUFi8RRJ+YewLMAAAA3AZ4+akP/AAVBH9UESPLYpxu7\n",
              "JojgGr2eu+x6Y9NTq8+lTAuyvRKtlAwI/X5qXkpoeQvbS0BMwAAAAGFBmiNJqEFsmUwIf//+qZYA\n",
              "DZYJwURFapEtgcaTr4Di3owEQA3YJRNRjsrSEWoPn1mNJa/GBv1Z6akYCyi8B27H/Pkzg7mtxFXX\n",
              "jHAS88h8u9tgJcvall/0/YFjQkPwyVrnAAAAM0GeQUUVLBD/AAJa2yRMQgXlLysu7ZtcI3T/6NHG\n",
              "0s7RbyfnCVWoOZ2VIOQ4a9KZLCUFbAAAABsBnmB0Q/8ABUBcCsoFlQWLsYg4jQFkMexwDBkAAAAq\n",
              "AZ5iakP/AAVBH9S/WU4LfH5kZQxB/JKXGl+2BHLDh60z8bIdXnRL0/VMAAAH1m1vb3YAAABsbXZo\n",
              "ZAAAAAAAAAAAAAAAAAAAA+gAAE4gAAEAAAEAAAAAAAAAAAAAAAABAAAAAAAAAAAAAAAAAAAAAQAA\n",
              "AAAAAAAAAAAAAAAAQAAAAAAAAAAAAAAAAAAAAAAAAAAAAAAAAAAAAAAAAAIAAAcAdHJhawAAAFx0\n",
              "a2hkAAAAAwAAAAAAAAAAAAAAAQAAAAAAAE4gAAAAAAAAAAAAAAAAAAAAAAABAAAAAAAAAAAAAAAA\n",
              "AAAAAQAAAAAAAAAAAAAAAAAAQAAAAAGwAAABIAAAAAAAJGVkdHMAAAAcZWxzdAAAAAAAAAABAABO\n",
              "IAAAEAAAAQAAAAAGeG1kaWEAAAAgbWRoZAAAAAAAAAAAAAAAAAAAKAAAAyAAVcQAAAAAAC1oZGxy\n",
              "AAAAAAAAAAB2aWRlAAAAAAAAAAAAAAAAVmlkZW9IYW5kbGVyAAAABiNtaW5mAAAAFHZtaGQAAAAB\n",
              "AAAAAAAAAAAAAAAkZGluZgAAABxkcmVmAAAAAAAAAAEAAAAMdXJsIAAAAAEAAAXjc3RibAAAALNz\n",
              "dHNkAAAAAAAAAAEAAACjYXZjMQAAAAAAAAABAAAAAAAAAAAAAAAAAAAAAAGwASAASAAAAEgAAAAA\n",
              "AAAAAQAAAAAAAAAAAAAAAAAAAAAAAAAAAAAAAAAAAAAAAAAAABj//wAAADFhdmNDAWQAFf/hABhn\n",
              "ZAAVrNlBsJaEAAADAAQAAAMAKDxYtlgBAAZo6+PLIsAAAAAcdXVpZGtoQPJfJE/FujmlG88DI/MA\n",
              "AAAAAAAAGHN0dHMAAAAAAAAAAQAAAGQAAAgAAAAAFHN0c3MAAAAAAAAAAQAAAAEAAAMoY3R0cwAA\n",
              "AAAAAABjAAAAAQAAEAAAAAABAAAYAAAAAAEAAAgAAAAAAQAAIAAAAAACAAAIAAAAAAEAABgAAAAA\n",
              "AQAACAAAAAABAAAYAAAAAAEAAAgAAAAAAQAAKAAAAAABAAAQAAAAAAEAAAAAAAAAAQAACAAAAAAB\n",
              "AAAoAAAAAAEAABAAAAAAAQAAAAAAAAABAAAIAAAAAAEAACgAAAAAAQAAEAAAAAABAAAAAAAAAAEA\n",
              "AAgAAAAAAQAAKAAAAAABAAAQAAAAAAEAAAAAAAAAAQAACAAAAAABAAAoAAAAAAEAABAAAAAAAQAA\n",
              "AAAAAAABAAAIAAAAAAEAACgAAAAAAQAAEAAAAAABAAAAAAAAAAEAAAgAAAAAAQAAKAAAAAABAAAQ\n",
              "AAAAAAEAAAAAAAAAAQAACAAAAAABAAAoAAAAAAEAABAAAAAAAQAAAAAAAAABAAAIAAAAAAEAACgA\n",
              "AAAAAQAAEAAAAAABAAAAAAAAAAEAAAgAAAAAAQAAKAAAAAABAAAQAAAAAAEAAAAAAAAAAQAACAAA\n",
              "AAABAAAoAAAAAAEAABAAAAAAAQAAAAAAAAABAAAIAAAAAAEAACgAAAAAAQAAEAAAAAABAAAAAAAA\n",
              "AAEAAAgAAAAAAQAAKAAAAAABAAAQAAAAAAEAAAAAAAAAAQAACAAAAAABAAAoAAAAAAEAABAAAAAA\n",
              "AQAAAAAAAAABAAAIAAAAAAEAABgAAAAAAQAACAAAAAABAAAoAAAAAAEAABAAAAAAAQAAAAAAAAAB\n",
              "AAAIAAAAAAEAACgAAAAAAQAAEAAAAAABAAAAAAAAAAEAAAgAAAAAAQAAKAAAAAABAAAQAAAAAAEA\n",
              "AAAAAAAAAQAACAAAAAABAAAoAAAAAAEAABAAAAAAAQAAAAAAAAABAAAIAAAAAAEAACgAAAAAAQAA\n",
              "EAAAAAABAAAAAAAAAAEAAAgAAAAAAQAAKAAAAAABAAAQAAAAAAEAAAAAAAAAAQAACAAAAAABAAAo\n",
              "AAAAAAEAABAAAAAAAQAAAAAAAAABAAAIAAAAAAEAACgAAAAAAQAAEAAAAAABAAAAAAAAAAEAAAgA\n",
              "AAAAHHN0c2MAAAAAAAAAAQAAAAEAAABkAAAAAQAAAaRzdHN6AAAAAAAAAAAAAABkAAAUDQAABKIA\n",
              "AAETAAADmwAAAN4AAACWAAACrwAAAGcAAAMlAAAAXwAAAxkAAACIAAAANgAAAEMAAAKmAAAAagAA\n",
              "ADMAAAA4AAACawAAAFcAAAA7AAAAXQAAAnYAAAAxAAAALgAAACMAAAIqAAAANAAAACkAAAAfAAAC\n",
              "bwAAADcAAAAfAAAAHgAAAi4AAAA3AAAAJwAAAC0AAAIzAAAAMQAAACkAAAAlAAACIQAAADYAAAAe\n",
              "AAAAJAAAAhgAAABSAAAALgAAAC4AAAJLAAAAVQAAADAAAABHAAAB6QAAAEkAAAAzAAAALQAAAcgA\n",
              "AAA1AAAAUQAAAFYAAAHcAAAAbAAAADgAAAArAAABRAAAAEoAAAIoAAAAQAAAADsAAAA0AAABiQAA\n",
              "AEwAAAAzAAAAOQAAAaAAAAA0AAAAKQAAACYAAAGIAAAALwAAAC0AAAAvAAABmQAAAFQAAAAvAAAA\n",
              "HwAAARMAAABBAAAAPQAAAEAAAADmAAAASwAAABsAAAA7AAAAZQAAADcAAAAfAAAALgAAABRzdGNv\n",
              "AAAAAAAAAAEAAAAsAAAAYnVkdGEAAABabWV0YQAAAAAAAAAhaGRscgAAAAAAAAAAbWRpcmFwcGwA\n",
              "AAAAAAAAAAAAAAAtaWxzdAAAACWpdG9vAAAAHWRhdGEAAAABAAAAAExhdmY1Ny44My4xMDA=\n",
              "\">\n",
              "  Your browser does not support the video tag.\n",
              "</video>"
            ],
            "text/plain": [
              "<IPython.core.display.HTML object>"
            ]
          },
          "metadata": {
            "tags": []
          },
          "execution_count": 63
        }
      ]
    }
  ]
}